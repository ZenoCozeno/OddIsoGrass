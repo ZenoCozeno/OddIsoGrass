{
 "cells": [
  {
   "cell_type": "markdown",
   "metadata": {},
   "source": [
    "# Lefschetz Exceptional collection on IGr(3,11)"
   ]
  },
  {
   "cell_type": "code",
   "execution_count": 1,
   "metadata": {},
   "outputs": [],
   "source": [
    "from IPython.display import Latex"
   ]
  },
  {
   "cell_type": "markdown",
   "metadata": {},
   "source": [
    "In this notebook, we illustrate the use of some functions in the associated modules and report the computations mentioned in the author's thesis. \n",
    "We give some partial computation proving that the set of weights $\\mathbf{B}$ defined as follows induces a Lefschetz basis after mutating $\\mathcal{U}^{4,0,0}$. We slso prove some insight on a possible completion of the basis.  "
   ]
  },
  {
   "cell_type": "code",
   "execution_count": 2,
   "metadata": {},
   "outputs": [],
   "source": [
    "from utilities import LRfactors\n",
    "from vanishing_odd import vanishingEvenGrass, vanishingOddGrass, extOddGrass, is_Lefschetz_excep, is_Lefschetz_basis, Lefschetz_indep\n",
    "from complex import truncated_complex, complex_summand, complex, complex_entry, staircase\n",
    "import numpy as np\n",
    "import pprint as pp"
   ]
  },
  {
   "cell_type": "code",
   "execution_count": 3,
   "metadata": {},
   "outputs": [],
   "source": [
    "k = 3\n",
    "n = 5"
   ]
  },
  {
   "cell_type": "markdown",
   "metadata": {},
   "source": [
    "We start proving that B1 and B2 are the basis of a Lefschetz collection, while the bundle B does not."
   ]
  },
  {
   "cell_type": "code",
   "execution_count": 4,
   "metadata": {},
   "outputs": [],
   "source": [
    "B1 = [[0,0,-3],[0,0,-2],[0,0,-1],[0,0,0],\n",
    "   [1,0,-2],[1,0,-1],[1,0,0],\n",
    "   [2,0,-2],[2,0,-1],[2,0,0],\n",
    "   [3,0,-1],[3,0,0]] \n",
    "\n",
    "B2 = [[0,0,-2],[0,0,-1],[0,0,0],\n",
    "   [1,0,-2],[1,0,-1],[1,0,0],\n",
    "   [2,0,-2],[2,0,-1],[2,0,0],\n",
    "   [3,0,-1],[3,0,0],[4,0,0]]\n",
    "\n",
    "B = B1 + [[4,0,0]]"
   ]
  },
  {
   "cell_type": "markdown",
   "metadata": {},
   "source": [
    "As a matter of fact, $\\mathsf{Ext}^\\bullet(\\mathcal{U}^{4,0,0}(l),\\mathcal{U}^{0,0,-3})=0 $ for $l=1,\\dots,8$. The nonzero $\\mathsf{Ext}^\\bullet(\\mathcal{U}^{4,0,0}(l),\\mathcal{U}^{0,0,-3}) = \\mathsf{H}^\\bullet(\\mathsf{IGr}(3,11), \\mathcal{U}^{0,0,-7})$ for $l=0$ is given by $\\mathcal{U}^{0,0,-7}$"
   ]
  },
  {
   "cell_type": "code",
   "execution_count": 5,
   "metadata": {},
   "outputs": [
    {
     "name": "stdout",
     "output_type": "stream",
     "text": [
      "[1, 2, 3, 4, 5, 6, 7, 8]\n",
      "(False, {(0, 0, -7): 1})\n",
      "(False, {1: {(0, 0, -8)}})\n"
     ]
    }
   ],
   "source": [
    "print(Lefschetz_indep([4,0,0], [0,0,-3], k, n))\n",
    "print(extOddGrass([4,0,0], [0,0,-3], k, n))\n",
    "print(vanishingOddGrass([0,0,-7], k, n))"
   ]
  },
  {
   "cell_type": "code",
   "execution_count": 6,
   "metadata": {},
   "outputs": [
    {
     "name": "stdout",
     "output_type": "stream",
     "text": [
      "Problem with [4, 0, 0] [0, 0, -3]\n",
      "B1 is a Lefschetz basis? True \n",
      "B2 is a Lefschetz basis? True \n",
      "B is a Lefschetz basis? False\n"
     ]
    }
   ],
   "source": [
    "print(f\"B1 is a Lefschetz basis? {is_Lefschetz_basis(B1,k,n)} \\nB2 is a Lefschetz basis? {is_Lefschetz_basis(B2,k,n)} \\nB is a Lefschetz basis? {is_Lefschetz_basis(B,k,n)}\")"
   ]
  },
  {
   "cell_type": "markdown",
   "metadata": {},
   "source": [
    "We show that $\\mathcal{H} \\in  {\\mathbf{B}_1^\\perp}$"
   ]
  },
  {
   "cell_type": "code",
   "execution_count": 7,
   "metadata": {},
   "outputs": [
    {
     "name": "stdout",
     "output_type": "stream",
     "text": [
      " +  330 * U^(-1, -1, -1) [4]  \n",
      " +  165 * U^(-1, -1, -2) [3]  \n",
      " +  55 * U^(-1, -1, -3) [2]  \n",
      " +  11 * U^(-1, -1, -4) [1]  \n",
      " +  1 * U^(-1, -1, -5) [0]  \n",
      " +  462 * U^(-1, -1, -1) [5]  \n",
      " +  330 * U^(-1, -2, -2) [4]  \n",
      " +  165 * U^(-1, -2, -3) [3]  \n",
      " +  55 * U^(-1, -2, -4) [2]  \n",
      " +  11 * U^(-1, -2, -5) [1]  \n",
      " +  1 * U^(-1, -2, -6) [0]  \n",
      " +  330 * U^(-1, -1, -2) [6]  \n",
      " +  462 * U^(-1, -2, -2) [5]  \n",
      " +  330 * U^(-1, -3, -3) [4]  \n",
      " +  165 * U^(-1, -3, -4) [3]  \n",
      " +  55 * U^(-1, -3, -5) [2]  \n",
      " +  11 * U^(-1, -3, -6) [1]  \n",
      " +  1 * U^(-1, -3, -7) [0]  \n"
     ]
    }
   ],
   "source": [
    "stair40 = staircase([4,0,0],k,2*n+1)\n",
    "stair31 = staircase([3,0,-1],k,2*n+1)\n",
    "stair22 = staircase([2,0,-2],k,2*n+1)\n",
    "\n",
    "H = []\n",
    "\n",
    "H.append(stair40.stupid_truncation(5).left)\n",
    "H.append(stair31.stupid_truncation(4).left)\n",
    "H.append(stair22.stupid_truncation(3).left)\n",
    "\n",
    "for Hi in H:\n",
    "    Hi.display()\n"
   ]
  },
  {
   "cell_type": "code",
   "execution_count": 14,
   "metadata": {},
   "outputs": [],
   "source": [
    "split40 = stair40.stupid_truncation(5)\n",
    "split31 = stair31.stupid_truncation(4)\n",
    "split22 = stair22.stupid_truncation(3)"
   ]
  },
  {
   "cell_type": "code",
   "execution_count": 9,
   "metadata": {},
   "outputs": [
    {
     "name": "stdout",
     "output_type": "stream",
     "text": [
      " +  1 * U^(3, 0, -1) [9]  \n",
      " +  11 * U^(2, 0, -1) [8]  \n",
      " +  55 * U^(1, 0, -1) [7]  \n",
      " +  165 * U^(0, 0, -1) [6]  \n",
      " +  462 * U^(-1, -1, -1) [5]  \n",
      " +  330 * U^(-1, -2, -2) [4]  \n",
      " +  165 * U^(-1, -2, -3) [3]  \n",
      " +  55 * U^(-1, -2, -4) [2]  \n",
      " +  11 * U^(-1, -2, -5) [1]  \n",
      " +  1 * U^(-1, -2, -6) [0]  \n"
     ]
    }
   ],
   "source": [
    "stair31.display()"
   ]
  },
  {
   "cell_type": "code",
   "execution_count": 15,
   "metadata": {},
   "outputs": [
    {
     "name": "stdout",
     "output_type": "stream",
     "text": [
      " +  1 * U^(0, -1, -8) [-9]  \n"
     ]
    }
   ],
   "source": [
    "split22 = stair22.dual().stupid_truncation(7)\n",
    "split31.partial_tensors(split22,k,n).display()"
   ]
  },
  {
   "cell_type": "code",
   "execution_count": 11,
   "metadata": {},
   "outputs": [],
   "source": [
    "H.append(stair40.stupid_truncation(5).left)"
   ]
  },
  {
   "cell_type": "code",
   "execution_count": 12,
   "metadata": {},
   "outputs": [
    {
     "name": "stdout",
     "output_type": "stream",
     "text": [
      " +  1 * U^(4, 0, 0) [9]  \n",
      " +  11 * U^(3, 0, 0) [8]  \n",
      " +  55 * U^(2, 0, 0) [7]  \n",
      " +  165 * U^(1, 0, 0) [6]  \n",
      " +  330 * U^(0, 0, 0) [5]  \n",
      " +  330 * U^(-1, -1, -1) [4]  \n",
      " +  165 * U^(-1, -1, -2) [3]  \n",
      " +  55 * U^(-1, -1, -3) [2]  \n",
      " +  11 * U^(-1, -1, -4) [1]  \n",
      " +  1 * U^(-1, -1, -5) [0]  \n"
     ]
    }
   ],
   "source": [
    "stair40.display()"
   ]
  },
  {
   "cell_type": "code",
   "execution_count": 13,
   "metadata": {},
   "outputs": [
    {
     "ename": "NameError",
     "evalue": "name 's' is not defined",
     "output_type": "error",
     "traceback": [
      "\u001b[0;31m---------------------------------------------------------------------------\u001b[0m",
      "\u001b[0;31mNameError\u001b[0m                                 Traceback (most recent call last)",
      "\u001b[0;32m<ipython-input-13-794af3928bf6>\u001b[0m in \u001b[0;36m<module>\u001b[0;34m\u001b[0m\n\u001b[0;32m----> 1\u001b[0;31m \u001b[0ms\u001b[0m\u001b[0;34m.\u001b[0m\u001b[0mshift\u001b[0m\u001b[0;34m(\u001b[0m\u001b[0mInteger\u001b[0m\u001b[0;34m(\u001b[0m\u001b[0;36m2\u001b[0m\u001b[0;34m)\u001b[0m\u001b[0;34m)\u001b[0m\u001b[0;34m\u001b[0m\u001b[0;34m\u001b[0m\u001b[0m\n\u001b[0m\u001b[1;32m      2\u001b[0m \u001b[0ms\u001b[0m\u001b[0;34m.\u001b[0m\u001b[0mdisplay\u001b[0m\u001b[0;34m(\u001b[0m\u001b[0;34m)\u001b[0m\u001b[0;34m\u001b[0m\u001b[0;34m\u001b[0m\u001b[0m\n",
      "\u001b[0;31mNameError\u001b[0m: name 's' is not defined"
     ]
    }
   ],
   "source": [
    "s.shift(2)\n",
    "s.display()\n"
   ]
  },
  {
   "cell_type": "code",
   "execution_count": null,
   "metadata": {},
   "outputs": [],
   "source": [
    "prod = summer.tensor(second)\n",
    "t = summer.tensor(second)"
   ]
  },
  {
   "cell_type": "code",
   "execution_count": null,
   "metadata": {},
   "outputs": [],
   "source": [
    "check = complex_entry()\n",
    "check.display()"
   ]
  },
  {
   "cell_type": "code",
   "execution_count": null,
   "metadata": {},
   "outputs": [],
   "source": [
    "new = prod.sum(t)\n",
    "t.display()\n",
    "new.display()"
   ]
  },
  {
   "cell_type": "code",
   "execution_count": null,
   "metadata": {},
   "outputs": [],
   "source": [
    "prod_fin = new.tensor(t)\n",
    "prod_fin.display()"
   ]
  },
  {
   "cell_type": "code",
   "execution_count": null,
   "metadata": {},
   "outputs": [],
   "source": [
    "LRfactors([0,-1,-1], [0,-1,-1], 3)"
   ]
  },
  {
   "cell_type": "code",
   "execution_count": null,
   "metadata": {},
   "outputs": [],
   "source": [
    "vanishingEvenGrass([0,0,0],3,5)"
   ]
  },
  {
   "cell_type": "code",
   "execution_count": null,
   "metadata": {},
   "outputs": [],
   "source": [
    "val = vanishingOddGrass([0,0,-1],3,5)\n",
    "print(val)"
   ]
  }
 ],
 "metadata": {
  "kernelspec": {
   "display_name": "SageMath 9.4",
   "language": "sage",
   "name": "SageMath-9.4"
  },
  "language_info": {
   "codemirror_mode": {
    "name": "ipython",
    "version": 3
   },
   "file_extension": ".py",
   "mimetype": "text/x-python",
   "name": "python",
   "nbconvert_exporter": "python",
   "pygments_lexer": "ipython3",
   "version": "3.9.5"
  }
 },
 "nbformat": 4,
 "nbformat_minor": 4
}
