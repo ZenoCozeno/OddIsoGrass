{
 "cells": [
  {
   "cell_type": "code",
   "execution_count": 1,
   "metadata": {},
   "outputs": [],
   "source": [
    "from utilities import LRfactors\n",
    "from vanishing_odd import vanishingEvenGrass, vanishingOddGrass\n",
    "from complex import truncated_complex, complex_summand, complex, complex_entry, staircase"
   ]
  },
  {
   "cell_type": "code",
   "execution_count": 2,
   "metadata": {},
   "outputs": [],
   "source": [
    "summer = complex_summand([1,0,0],11)\n",
    "second = complex_summand([1,0,0],11)"
   ]
  },
  {
   "cell_type": "code",
   "execution_count": 18,
   "metadata": {},
   "outputs": [],
   "source": [
    "s = staircase([1,0,0],3,11)"
   ]
  },
  {
   "cell_type": "code",
   "execution_count": 21,
   "metadata": {},
   "outputs": [],
   "source": [
    "split = s.stupid_truncation(2)"
   ]
  },
  {
   "cell_type": "code",
   "execution_count": 22,
   "metadata": {},
   "outputs": [
    {
     "name": "stdout",
     "output_type": "stream",
     "text": [
      " +  330 * U^[-1, -1, -1] [7]  \n",
      " +  462 * U^[-1, -1, -2] [6]  \n",
      " +  462 * U^[-1, -1, -3] [5]  \n",
      " +  330 * U^[-1, -1, -4] [4]  \n",
      " +  165 * U^[-1, -1, -5] [3]  \n",
      " +  55 * U^[-1, -1, -6] [2]  \n",
      " +  11 * U^[-1, -1, -7] [1]  \n",
      " +  1 * U^[-1, -1, -8] [0]  \n"
     ]
    }
   ],
   "source": [
    "split.left.display()"
   ]
  },
  {
   "cell_type": "code",
   "execution_count": 23,
   "metadata": {},
   "outputs": [
    {
     "name": "stdout",
     "output_type": "stream",
     "text": [
      " +  1 * U^(2, 0, 0)  +  1 * U^(1, 1, 0) [18]  \n",
      " +  22 * U^(1, 0, 0) [17]  \n",
      " +  121 * U^(0, 0, 0) [16]  \n"
     ]
    }
   ],
   "source": [
    "new =split.right.tensor(split.right)\n",
    "new.display()"
   ]
  },
  {
   "cell_type": "code",
   "execution_count": 7,
   "metadata": {},
   "outputs": [
    {
     "name": "stdout",
     "output_type": "stream",
     "text": [
      " +  1 * U^[3, 0, -2] [11]  \n",
      " +  11 * U^[2, 0, -2] [10]  \n",
      " +  55 * U^[1, 0, -2] [9]  \n",
      " +  165 * U^[0, 0, -2] [8]  \n",
      " +  462 * U^[-1, -1, -2] [7]  \n",
      " +  462 * U^[-1, -2, -2] [6]  \n",
      " +  165 * U^[-1, -3, -3] [5]  \n",
      " +  55 * U^[-1, -3, -4] [4]  \n",
      " +  11 * U^[-1, -3, -5] [3]  \n",
      " +  1 * U^[-1, -3, -6] [2]  \n"
     ]
    }
   ],
   "source": [
    "s.shift(2)\n",
    "s.display()\n"
   ]
  },
  {
   "cell_type": "code",
   "execution_count": 8,
   "metadata": {},
   "outputs": [],
   "source": [
    "prod = summer.tensor(second)\n",
    "t = summer.tensor(second)"
   ]
  },
  {
   "cell_type": "code",
   "execution_count": 9,
   "metadata": {},
   "outputs": [],
   "source": [
    "check = complex_entry()\n",
    "check.display()"
   ]
  },
  {
   "cell_type": "code",
   "execution_count": 10,
   "metadata": {},
   "outputs": [
    {
     "name": "stdout",
     "output_type": "stream",
     "text": [
      " +  121 * U^(2, 0, 0)  +  121 * U^(1, 1, 0)  +  242 * U^(2, 0, 0)  +  242 * U^(1, 1, 0) "
     ]
    }
   ],
   "source": [
    "new = prod.sum(t)\n",
    "t.display()\n",
    "new.display()"
   ]
  },
  {
   "cell_type": "code",
   "execution_count": 11,
   "metadata": {},
   "outputs": [
    {
     "name": "stdout",
     "output_type": "stream",
     "text": [
      " +  29282 * U^(4, 0, 0)  +  58564 * U^(2, 2, 0)  +  87846 * U^(3, 1, 0)  +  87846 * U^(2, 1, 1) "
     ]
    }
   ],
   "source": [
    "prod_fin = new.tensor(t)\n",
    "prod_fin.display()"
   ]
  },
  {
   "cell_type": "code",
   "execution_count": 12,
   "metadata": {},
   "outputs": [
    {
     "data": {
      "text/plain": [
       "{(0, -2, -2): 1, (-1, -1, -2): 1}"
      ]
     },
     "execution_count": 12,
     "metadata": {},
     "output_type": "execute_result"
    }
   ],
   "source": [
    "LRfactors([0,-1,-1], [0,-1,-1], 3)"
   ]
  },
  {
   "cell_type": "code",
   "execution_count": 13,
   "metadata": {},
   "outputs": [
    {
     "data": {
      "text/plain": [
       "False"
      ]
     },
     "execution_count": 13,
     "metadata": {},
     "output_type": "execute_result"
    }
   ],
   "source": [
    "vanishingEvenGrass([0,0,0],3,5)"
   ]
  },
  {
   "cell_type": "code",
   "execution_count": 14,
   "metadata": {},
   "outputs": [
    {
     "name": "stdout",
     "output_type": "stream",
     "text": [
      "(True, {})\n"
     ]
    }
   ],
   "source": [
    "val = vanishingOddGrass([0,0,-1],3,5)\n",
    "print(val)"
   ]
  }
 ],
 "metadata": {
  "kernelspec": {
   "display_name": "SageMath 9.4",
   "language": "sage",
   "name": "SageMath-9.4"
  },
  "language_info": {
   "codemirror_mode": {
    "name": "ipython",
    "version": 3
   },
   "file_extension": ".py",
   "mimetype": "text/x-python",
   "name": "python",
   "nbconvert_exporter": "python",
   "pygments_lexer": "ipython3",
   "version": "3.9.5"
  }
 },
 "nbformat": 4,
 "nbformat_minor": 4
}
