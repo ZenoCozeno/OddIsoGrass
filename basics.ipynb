{
 "cells": [
  {
   "cell_type": "code",
   "execution_count": 1,
   "metadata": {},
   "outputs": [],
   "source": [
    "from utilities import LRfactors\n",
    "from vanishing_odd import vanishingEvenGrass, vanishingOddGrass, extOddGrass, is_Lefschetz_excep, is_Lefschetz_basis, Lefschetz_indep\n",
    "from complex import truncated_complex, complex_summand, complex, complex_entry, staircase\n",
    "import numpy as np\n",
    "import pprint as pp"
   ]
  },
  {
   "cell_type": "code",
   "execution_count": 2,
   "metadata": {},
   "outputs": [],
   "source": [
    "k = 3\n",
    "n = 5\n",
    "\n",
    "exceptional = list(range(1,2*n+2-k))\n",
    "ortho = list(range(0,2*n+2-k))"
   ]
  },
  {
   "cell_type": "code",
   "execution_count": 3,
   "metadata": {},
   "outputs": [
    {
     "name": "stdout",
     "output_type": "stream",
     "text": [
      "[array([0, 0, 0]),\n",
      " array([0, 0, 0]),\n",
      " array([ 0,  0, -1]),\n",
      " array([1, 0, 0]),\n",
      " array([ 0,  0, -2]),\n",
      " array([2, 0, 0]),\n",
      " array([ 0,  0, -3]),\n",
      " array([3, 0, 0]),\n",
      " array([ 0,  0, -4]),\n",
      " array([4, 0, 0]),\n",
      " array([ 0,  0, -5]),\n",
      " array([5, 0, 0]),\n",
      " array([ 1,  0, -1]),\n",
      " array([ 1,  0, -1]),\n",
      " array([ 1,  0, -2]),\n",
      " array([ 2,  0, -1]),\n",
      " array([ 1,  0, -3]),\n",
      " array([ 3,  0, -1]),\n",
      " array([ 1,  0, -4]),\n",
      " array([ 4,  0, -1]),\n",
      " array([ 2,  0, -2]),\n",
      " array([ 2,  0, -2])]\n"
     ]
    }
   ],
   "source": [
    "except_bundles=[]\n",
    "for i in range(0,n+1):\n",
    "    for j in range(i,n+1 - i):\n",
    "        test = np.array([i,0,-j])\n",
    "        if is_Lefschetz_excep(test,k,n):\n",
    "            except_bundles.append(test)\n",
    "            except_bundles.append(-test[::-1])\n",
    "pp.pprint(except_bundles)"
   ]
  },
  {
   "cell_type": "code",
   "execution_count": 4,
   "metadata": {},
   "outputs": [],
   "source": [
    "B1 = [[0,0,-3],[0,0,-2],[0,0,-1],[0,0,0],\n",
    "   [1,0,-2],[1,0,-1],[1,0,0],\n",
    "   [2,0,-2],[2,0,-1],[2,0,0],\n",
    "   [3,0,-1],[3,0,0]] \n",
    "\n",
    "B2 = [[0,0,-2],[0,0,-1],[0,0,0],\n",
    "   [1,0,-2],[1,0,-1],[1,0,0],\n",
    "   [2,0,-2],[2,0,-1],[2,0,0],\n",
    "   [3,0,-1],[3,0,0],[4,0,0]]\n",
    "\n",
    "B = B1 + [[4,0,0]]"
   ]
  },
  {
   "cell_type": "code",
   "execution_count": 5,
   "metadata": {},
   "outputs": [
    {
     "data": {
      "text/plain": [
       "[1, 2, 3, 4, 5, 6, 7, 8]"
      ]
     },
     "execution_count": 5,
     "metadata": {},
     "output_type": "execute_result"
    }
   ],
   "source": [
    "Lefschetz_indep([4,0,0], [0,0,-3], k, n)"
   ]
  },
  {
   "cell_type": "code",
   "execution_count": 8,
   "metadata": {},
   "outputs": [
    {
     "name": "stdout",
     "output_type": "stream",
     "text": [
      "Problem with [4, 0, 0] [0, 0, -3]\n",
      "B1 is a Lefschetz basis? True \n",
      " B2 is a Lefschetz basis? True, B is a Lefschetz basis? False\n"
     ]
    }
   ],
   "source": [
    "print(f\"B1 is a Lefschetz basis? {is_Lefschetz_basis(B1,k,n)} \\nB2 is a Lefschetz basis? {is_Lefschetz_basis(B2,k,n)} \\nB is a Lefschetz basis? {is_Lefschetz_basis(B,k,n)}\")"
   ]
  },
  {
   "cell_type": "code",
   "execution_count": 7,
   "metadata": {},
   "outputs": [
    {
     "ename": "NameError",
     "evalue": "name 'split' is not defined",
     "output_type": "error",
     "traceback": [
      "\u001b[0;31m---------------------------------------------------------------------------\u001b[0m",
      "\u001b[0;31mNameError\u001b[0m                                 Traceback (most recent call last)",
      "\u001b[0;32m<ipython-input-7-0cffbe2fecb2>\u001b[0m in \u001b[0;36m<module>\u001b[0;34m\u001b[0m\n\u001b[0;32m----> 1\u001b[0;31m \u001b[0msplit\u001b[0m\u001b[0;34m.\u001b[0m\u001b[0mleft\u001b[0m\u001b[0;34m.\u001b[0m\u001b[0mdisplay\u001b[0m\u001b[0;34m(\u001b[0m\u001b[0;34m)\u001b[0m\u001b[0;34m\u001b[0m\u001b[0;34m\u001b[0m\u001b[0m\n\u001b[0m",
      "\u001b[0;31mNameError\u001b[0m: name 'split' is not defined"
     ]
    }
   ],
   "source": [
    "split.left.display()"
   ]
  },
  {
   "cell_type": "code",
   "execution_count": null,
   "metadata": {},
   "outputs": [
    {
     "name": "stdout",
     "output_type": "stream",
     "text": [
      " +  1 * U^(2, 0, 0)  +  1 * U^(1, 1, 0) [18]  \n",
      " +  22 * U^(1, 0, 0) [17]  \n",
      " +  121 * U^(0, 0, 0) [16]  \n"
     ]
    }
   ],
   "source": [
    "new =split.right.tensor(split.right)\n",
    "new.display()"
   ]
  },
  {
   "cell_type": "code",
   "execution_count": null,
   "metadata": {},
   "outputs": [
    {
     "name": "stdout",
     "output_type": "stream",
     "text": [
      " +  1 * U^[1, 0, 0] [11]  \n",
      " +  11 * U^[0, 0, 0] [10]  \n",
      " +  330 * U^[-1, -1, -1] [9]  \n",
      " +  462 * U^[-1, -1, -2] [8]  \n",
      " +  462 * U^[-1, -1, -3] [7]  \n",
      " +  330 * U^[-1, -1, -4] [6]  \n",
      " +  165 * U^[-1, -1, -5] [5]  \n",
      " +  55 * U^[-1, -1, -6] [4]  \n",
      " +  11 * U^[-1, -1, -7] [3]  \n",
      " +  1 * U^[-1, -1, -8] [2]  \n"
     ]
    }
   ],
   "source": [
    "s.shift(2)\n",
    "s.display()\n"
   ]
  },
  {
   "cell_type": "code",
   "execution_count": null,
   "metadata": {},
   "outputs": [
    {
     "ename": "NameError",
     "evalue": "name 'summer' is not defined",
     "output_type": "error",
     "traceback": [
      "\u001b[0;31m---------------------------------------------------------------------------\u001b[0m",
      "\u001b[0;31mNameError\u001b[0m                                 Traceback (most recent call last)",
      "\u001b[0;32m<ipython-input-12-3335ebc16dc8>\u001b[0m in \u001b[0;36m<module>\u001b[0;34m\u001b[0m\n\u001b[0;32m----> 1\u001b[0;31m \u001b[0mprod\u001b[0m \u001b[0;34m=\u001b[0m \u001b[0msummer\u001b[0m\u001b[0;34m.\u001b[0m\u001b[0mtensor\u001b[0m\u001b[0;34m(\u001b[0m\u001b[0msecond\u001b[0m\u001b[0;34m)\u001b[0m\u001b[0;34m\u001b[0m\u001b[0;34m\u001b[0m\u001b[0m\n\u001b[0m\u001b[1;32m      2\u001b[0m \u001b[0mt\u001b[0m \u001b[0;34m=\u001b[0m \u001b[0msummer\u001b[0m\u001b[0;34m.\u001b[0m\u001b[0mtensor\u001b[0m\u001b[0;34m(\u001b[0m\u001b[0msecond\u001b[0m\u001b[0;34m)\u001b[0m\u001b[0;34m\u001b[0m\u001b[0;34m\u001b[0m\u001b[0m\n",
      "\u001b[0;31mNameError\u001b[0m: name 'summer' is not defined"
     ]
    }
   ],
   "source": [
    "prod = summer.tensor(second)\n",
    "t = summer.tensor(second)"
   ]
  },
  {
   "cell_type": "code",
   "execution_count": null,
   "metadata": {},
   "outputs": [],
   "source": [
    "check = complex_entry()\n",
    "check.display()"
   ]
  },
  {
   "cell_type": "code",
   "execution_count": null,
   "metadata": {},
   "outputs": [
    {
     "name": "stdout",
     "output_type": "stream",
     "text": [
      " +  121 * U^(2, 0, 0)  +  121 * U^(1, 1, 0)  +  242 * U^(2, 0, 0)  +  242 * U^(1, 1, 0) "
     ]
    }
   ],
   "source": [
    "new = prod.sum(t)\n",
    "t.display()\n",
    "new.display()"
   ]
  },
  {
   "cell_type": "code",
   "execution_count": null,
   "metadata": {},
   "outputs": [
    {
     "name": "stdout",
     "output_type": "stream",
     "text": [
      " +  29282 * U^(4, 0, 0)  +  58564 * U^(2, 2, 0)  +  87846 * U^(3, 1, 0)  +  87846 * U^(2, 1, 1) "
     ]
    }
   ],
   "source": [
    "prod_fin = new.tensor(t)\n",
    "prod_fin.display()"
   ]
  },
  {
   "cell_type": "code",
   "execution_count": null,
   "metadata": {},
   "outputs": [
    {
     "data": {
      "text/plain": [
       "{(0, -2, -2): 1, (-1, -1, -2): 1}"
      ]
     },
     "execution_count": 12,
     "metadata": {},
     "output_type": "execute_result"
    }
   ],
   "source": [
    "LRfactors([0,-1,-1], [0,-1,-1], 3)"
   ]
  },
  {
   "cell_type": "code",
   "execution_count": null,
   "metadata": {},
   "outputs": [
    {
     "data": {
      "text/plain": [
       "False"
      ]
     },
     "execution_count": 13,
     "metadata": {},
     "output_type": "execute_result"
    }
   ],
   "source": [
    "vanishingEvenGrass([0,0,0],3,5)"
   ]
  },
  {
   "cell_type": "code",
   "execution_count": null,
   "metadata": {},
   "outputs": [
    {
     "name": "stdout",
     "output_type": "stream",
     "text": [
      "(True, {})\n"
     ]
    }
   ],
   "source": [
    "val = vanishingOddGrass([0,0,-1],3,5)\n",
    "print(val)"
   ]
  }
 ],
 "metadata": {
  "kernelspec": {
   "display_name": "SageMath 9.4",
   "language": "sage",
   "name": "SageMath-9.4"
  },
  "language_info": {
   "codemirror_mode": {
    "name": "ipython",
    "version": 3
   },
   "file_extension": ".py",
   "mimetype": "text/x-python",
   "name": "python",
   "nbconvert_exporter": "python",
   "pygments_lexer": "ipython3",
   "version": "3.9.5"
  }
 },
 "nbformat": 4,
 "nbformat_minor": 4
}
