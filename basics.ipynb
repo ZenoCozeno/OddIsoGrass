{
 "cells": [
  {
   "cell_type": "markdown",
   "metadata": {},
   "source": [
    "# Lefschetz Exceptional collection on IGr(3,11)"
   ]
  },
  {
   "cell_type": "markdown",
   "metadata": {},
   "source": [
    "In this notebook, we illustrate the use of some functions in the associated modules and report the computations mentioned in the author's thesis. \n",
    "We give some partial computation proving that the set of weights $\\mathbf{B}$ defined as follows induces a Lefschetz basis after mutating $\\mathcal{U}^{4,0,0}$. We slso prove some insight on a possible completion of the basis.  "
   ]
  },
  {
   "cell_type": "code",
   "execution_count": 1,
   "metadata": {},
   "outputs": [],
   "source": [
    "from utilities import LRfactors\n",
    "from vanishing_odd import vanishingEvenGrass, vanishingOddGrass, extOddGrass, is_Lefschetz_excep, is_Lefschetz_basis, Lefschetz_indep\n",
    "from complex import truncated_complex, complex, complex_entry, staircase\n",
    "import numpy as np\n",
    "import pprint as pp"
   ]
  },
  {
   "cell_type": "code",
   "execution_count": 2,
   "metadata": {},
   "outputs": [],
   "source": [
    "k = 3\n",
    "n = 5"
   ]
  },
  {
   "cell_type": "markdown",
   "metadata": {},
   "source": [
    "We start proving that B1 and B2 are the basis of a Lefschetz collection, while the bundle B does not."
   ]
  },
  {
   "cell_type": "code",
   "execution_count": 3,
   "metadata": {},
   "outputs": [],
   "source": [
    "B1 = [[0,0,-3],[0,0,-2],[0,0,-1],[0,0,0],\n",
    "   [1,0,-2],[1,0,-1],[1,0,0],\n",
    "   [2,0,-2],[2,0,-1],[2,0,0],\n",
    "   [3,0,-1],[3,0,0]] \n",
    "\n",
    "B2 = [[0,0,-2],[0,0,-1],[0,0,0],\n",
    "   [1,0,-2],[1,0,-1],[1,0,0],\n",
    "   [2,0,-2],[2,0,-1],[2,0,0],\n",
    "   [3,0,-1],[3,0,0],[4,0,0]]\n",
    "\n",
    "B = B1 + [[4,0,0]]"
   ]
  },
  {
   "cell_type": "markdown",
   "metadata": {},
   "source": [
    "As a matter of fact, $\\mathsf{Ext}^\\bullet(\\mathcal{U}^{4,0,0}(l),\\mathcal{U}^{0,0,-3})=0 $ for $l=1,\\dots,8$. The nonzero $\\mathsf{Ext}^\\bullet(\\mathcal{U}^{4,0,0}(l),\\mathcal{U}^{0,0,-3}) = \\mathsf{H}^\\bullet(\\mathsf{IGr}(3,11), \\mathcal{U}^{0,0,-7})$ for $l=0$ is given by $\\mathcal{U}^{0,0,-7}$"
   ]
  },
  {
   "cell_type": "code",
   "execution_count": 4,
   "metadata": {},
   "outputs": [
    {
     "name": "stdout",
     "output_type": "stream",
     "text": [
      "[1, 2, 3, 4, 5, 6, 7, 8]\n",
      "(False, {(0, 0, -7): 1})\n"
     ]
    }
   ],
   "source": [
    "print(Lefschetz_indep([4,0,0], [0,0,-3], k, n))\n",
    "print(extOddGrass([4,0,0], [0,0,-3], k, n))"
   ]
  },
  {
   "cell_type": "code",
   "execution_count": 5,
   "metadata": {},
   "outputs": [
    {
     "name": "stdout",
     "output_type": "stream",
     "text": [
      "Problem with [4, 0, 0] [0, 0, -3]\n",
      "B1 is a Lefschetz basis? True \n",
      "B2 is a Lefschetz basis? True \n",
      "B is a Lefschetz basis? False\n"
     ]
    }
   ],
   "source": [
    "print(f\"B1 is a Lefschetz basis? {is_Lefschetz_basis(B1,k,n)} \\nB2 is a Lefschetz basis? {is_Lefschetz_basis(B2,k,n)} \\nB is a Lefschetz basis? {is_Lefschetz_basis(B,k,n)}\")"
   ]
  },
  {
   "cell_type": "markdown",
   "metadata": {},
   "source": [
    "We show that $\\mathcal{H} \\in  {\\mathbf{B}_1^\\perp}$, we start defining the three staircase complexes to truncate:"
   ]
  },
  {
   "cell_type": "code",
   "execution_count": 6,
   "metadata": {},
   "outputs": [],
   "source": [
    "stair40 = staircase([4,0,0],k,2*n+1)\n",
    "stair31 = staircase([3,0,-1],k,2*n+1)\n",
    "stair22 = staircase([2,0,-2],k,2*n+1)"
   ]
  },
  {
   "cell_type": "markdown",
   "metadata": {},
   "source": [
    "We store the truncations in a class truncated_complex designed to contain objects with left and right resolutions."
   ]
  },
  {
   "cell_type": "code",
   "execution_count": 7,
   "metadata": {},
   "outputs": [
    {
     "name": "stdout",
     "output_type": "stream",
     "text": [
      "Right: \n",
      "0 -> [5] 330 * U^(0, 0, 0) ->\n",
      "[6] 165 * U^(1, 0, 0) ->\n",
      "[7] 55 * U^(2, 0, 0) ->\n",
      "[8] 11 * U^(3, 0, 0) ->\n",
      "[9] 1 * U^(4, 0, 0) -> 0\n",
      "Left: \n",
      "0 -> [0] 1 * U^(-1, -1, -5) ->\n",
      "[1] 11 * U^(-1, -1, -4) ->\n",
      "[2] 55 * U^(-1, -1, -3) ->\n",
      "[3] 165 * U^(-1, -1, -2) ->\n",
      "[4] 330 * U^(-1, -1, -1) -> 0  end-cpx\n",
      "Right: \n",
      "0 -> [6] 165 * U^(0, 0, -1) ->\n",
      "[7] 55 * U^(1, 0, -1) ->\n",
      "[8] 11 * U^(2, 0, -1) ->\n",
      "[9] 1 * U^(3, 0, -1) -> 0\n",
      "Left: \n",
      "0 -> [0] 1 * U^(-1, -2, -6) ->\n",
      "[1] 11 * U^(-1, -2, -5) ->\n",
      "[2] 55 * U^(-1, -2, -4) ->\n",
      "[3] 165 * U^(-1, -2, -3) ->\n",
      "[4] 330 * U^(-1, -2, -2) ->\n",
      "[5] 462 * U^(-1, -1, -1) -> 0  end-cpx\n",
      "Right: \n",
      "0 -> [7] 55 * U^(0, 0, -2) ->\n",
      "[8] 11 * U^(1, 0, -2) ->\n",
      "[9] 1 * U^(2, 0, -2) -> 0\n",
      "Left: \n",
      "0 -> [0] 1 * U^(-1, -3, -7) ->\n",
      "[1] 11 * U^(-1, -3, -6) ->\n",
      "[2] 55 * U^(-1, -3, -5) ->\n",
      "[3] 165 * U^(-1, -3, -4) ->\n",
      "[4] 330 * U^(-1, -3, -3) ->\n",
      "[5] 462 * U^(-1, -2, -2) ->\n",
      "[6] 330 * U^(-1, -1, -2) -> 0  end-cpx\n"
     ]
    }
   ],
   "source": [
    "split40 = stair40.stupid_truncation(5)\n",
    "split31 = stair31.stupid_truncation(4)\n",
    "split22 = stair22.stupid_truncation(3)\n",
    "print(str(split40))\n",
    "print(str(split31))\n",
    "print(str(split22))"
   ]
  },
  {
   "cell_type": "markdown",
   "metadata": {},
   "source": [
    "Notice that the stupid truncations are actually obtained as mutations:"
   ]
  },
  {
   "cell_type": "code",
   "execution_count": 8,
   "metadata": {},
   "outputs": [
    {
     "name": "stdout",
     "output_type": "stream",
     "text": [
      "True\n",
      "True\n",
      "True\n"
     ]
    }
   ],
   "source": [
    "print(split40.is_indep([[3,0,0],[2,0,0],[1,0,0],[0,0,0]], k, n))\n",
    "print(split31.is_indep([[2,0,-1],[1,0,-1],[0,0,-1]], k, n))\n",
    "print(split22.is_indep([[1,0,-2],[0,0,-2]], k, n))"
   ]
  },
  {
   "cell_type": "markdown",
   "metadata": {},
   "source": [
    "We now verify the exts of split40, split31, split22, proving that:\n",
    "\n",
    "split22, split31, split40 \n",
    "\n",
    "are an exceptional sequence"
   ]
  },
  {
   "cell_type": "code",
   "execution_count": 9,
   "metadata": {},
   "outputs": [
    {
     "name": "stdout",
     "output_type": "stream",
     "text": [
      "0 -> [-9] 1 * U^(0, -1, -8) -> 0\n",
      "0\n",
      "0 -> [-9] 1 * U^(0, -1, -8) -> 0\n",
      "0\n",
      "0\n",
      "0\n"
     ]
    }
   ],
   "source": [
    "print(str(split40.shortest_Tor(split31.dual(),k,n)))\n",
    "print(str(split40.shortest_Tor(split22.dual(),k,n)))\n",
    "print(str(split31.shortest_Tor(split22.dual(),k,n)))\n",
    "print(str(split31.shortest_Tor(split40.dual(),k,n)))\n",
    "print(str(split22.shortest_Tor(split31.dual(),k,n)))\n",
    "print(str(split22.shortest_Tor(split40.dual(),k,n)))"
   ]
  },
  {
   "cell_type": "markdown",
   "metadata": {},
   "source": [
    "We now construct $\\mathcal{H}$ as the totalization of a bicomplex."
   ]
  },
  {
   "cell_type": "code",
   "execution_count": 10,
   "metadata": {},
   "outputs": [],
   "source": [
    "H = split22.cone(split31.cone(split40))"
   ]
  },
  {
   "cell_type": "markdown",
   "metadata": {},
   "source": [
    "To verify that $\\mathcal{H} \\sqcup \\mathbf{B}_1$ is a basis, it is enough to prove that:\n",
    "$$ \\mathsf{Ext}^\\bullet(\\mathbf{B}_1\\setminus \\{\\mathcal{U}^{2,0,-2},\\mathcal{U}^{3,0,-1} \\},\\mathcal{H})=0 $$"
   ]
  },
  {
   "cell_type": "markdown",
   "metadata": {},
   "source": [
    "To do that, we compute $\\mathsf{Ext}^\\bullet(-,\\mathcal{H})$ using both resolutions of $\\mathcal{H}$, this is implemented in the method .is_indep() of the truncated_complex class."
   ]
  },
  {
   "cell_type": "code",
   "execution_count": 11,
   "metadata": {},
   "outputs": [
    {
     "data": {
      "text/plain": [
       "True"
      ]
     },
     "execution_count": 11,
     "metadata": {},
     "output_type": "execute_result"
    }
   ],
   "source": [
    "B1b = [[0,0,-3],[0,0,-2],[0,0,-1],[0,0,0],\n",
    "   [1,0,-2],[1,0,-1],[1,0,0],\n",
    "   [2,0,-1],[2,0,0],\n",
    "   [3,0,0]] \n",
    "\n",
    "H.is_indep(B1b, k, n)\n"
   ]
  }
 ],
 "metadata": {
  "kernelspec": {
   "display_name": "SageMath 9.4",
   "language": "sage",
   "name": "SageMath-9.4"
  },
  "language_info": {
   "codemirror_mode": {
    "name": "ipython",
    "version": 3
   },
   "file_extension": ".py",
   "mimetype": "text/x-python",
   "name": "python",
   "nbconvert_exporter": "python",
   "pygments_lexer": "ipython3",
   "version": "3.9.5"
  }
 },
 "nbformat": 4,
 "nbformat_minor": 4
}
