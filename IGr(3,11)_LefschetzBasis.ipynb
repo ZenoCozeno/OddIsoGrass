{
 "cells": [
  {
   "cell_type": "markdown",
   "metadata": {},
   "source": [
    "# Lefschetz Exceptional collection on IGr(3,11)"
   ]
  },
  {
   "cell_type": "markdown",
   "metadata": {},
   "source": [
    "In this notebook, we illustrate the use of some functions in the associated modules and report the computations mentioned in the author's thesis. \n",
    "We give some partial computation proving that the set of weights $\\mathbf{B}$ defined as follows induces a Lefschetz basis after mutating $\\mathcal{U}^{4,0,0}$. We slso prove some insight on a possible completion of the basis.  "
   ]
  },
  {
   "cell_type": "code",
   "execution_count": 1,
   "metadata": {},
   "outputs": [
    {
     "ename": "ModuleNotFoundError",
     "evalue": "No module named 'sage'",
     "output_type": "error",
     "traceback": [
      "\u001b[0;31m---------------------------------------------------------------------------\u001b[0m",
      "\u001b[0;31mModuleNotFoundError\u001b[0m                       Traceback (most recent call last)",
      "\u001b[0;32m<ipython-input-1-db054cd0ac7c>\u001b[0m in \u001b[0;36m<module>\u001b[0;34m\u001b[0m\n\u001b[0;32m----> 1\u001b[0;31m \u001b[0;32mfrom\u001b[0m \u001b[0mvanishing_odd\u001b[0m \u001b[0;32mimport\u001b[0m \u001b[0mextOddGrass\u001b[0m\u001b[0;34m,\u001b[0m \u001b[0mis_Lefschetz_basis\u001b[0m\u001b[0;34m,\u001b[0m \u001b[0mLefschetz_indep\u001b[0m\u001b[0;34m\u001b[0m\u001b[0;34m\u001b[0m\u001b[0m\n\u001b[0m\u001b[1;32m      2\u001b[0m \u001b[0;32mfrom\u001b[0m \u001b[0mcomplex\u001b[0m \u001b[0;32mimport\u001b[0m  \u001b[0mstaircase\u001b[0m\u001b[0;34m\u001b[0m\u001b[0;34m\u001b[0m\u001b[0m\n\u001b[1;32m      3\u001b[0m \u001b[0;32mimport\u001b[0m \u001b[0mnumpy\u001b[0m \u001b[0;32mas\u001b[0m \u001b[0mnp\u001b[0m\u001b[0;34m\u001b[0m\u001b[0;34m\u001b[0m\u001b[0m\n",
      "\u001b[0;32m~/OddIsoGrass/vanishing_odd.py\u001b[0m in \u001b[0;36m<module>\u001b[0;34m\u001b[0m\n\u001b[1;32m      3\u001b[0m \u001b[0;32mfrom\u001b[0m \u001b[0mtyping\u001b[0m \u001b[0;32mimport\u001b[0m \u001b[0mTuple\u001b[0m\u001b[0;34m\u001b[0m\u001b[0;34m\u001b[0m\u001b[0m\n\u001b[1;32m      4\u001b[0m \u001b[0;34m\u001b[0m\u001b[0m\n\u001b[0;32m----> 5\u001b[0;31m \u001b[0;32mfrom\u001b[0m \u001b[0mutilities\u001b[0m \u001b[0;32mimport\u001b[0m \u001b[0mformatting\u001b[0m\u001b[0;34m,\u001b[0m \u001b[0mLRfactors\u001b[0m\u001b[0;34m\u001b[0m\u001b[0;34m\u001b[0m\u001b[0m\n\u001b[0m\u001b[1;32m      6\u001b[0m \u001b[0;34m\u001b[0m\u001b[0m\n\u001b[1;32m      7\u001b[0m \u001b[0;32mdef\u001b[0m \u001b[0mvanishingEvenGrass\u001b[0m\u001b[0;34m(\u001b[0m\u001b[0mweight\u001b[0m\u001b[0;34m:\u001b[0m\u001b[0mnp\u001b[0m\u001b[0;34m.\u001b[0m\u001b[0marray\u001b[0m\u001b[0;34m,\u001b[0m \u001b[0mk\u001b[0m\u001b[0;34m:\u001b[0m\u001b[0mint\u001b[0m\u001b[0;34m,\u001b[0m \u001b[0mn\u001b[0m\u001b[0;34m:\u001b[0m\u001b[0mint\u001b[0m\u001b[0;34m)\u001b[0m \u001b[0;34m->\u001b[0m \u001b[0mbool\u001b[0m\u001b[0;34m:\u001b[0m\u001b[0;34m\u001b[0m\u001b[0;34m\u001b[0m\u001b[0m\n",
      "\u001b[0;32m~/OddIsoGrass/utilities.py\u001b[0m in \u001b[0;36m<module>\u001b[0;34m\u001b[0m\n\u001b[1;32m      1\u001b[0m \u001b[0;32mimport\u001b[0m \u001b[0mnumpy\u001b[0m \u001b[0;32mas\u001b[0m \u001b[0mnp\u001b[0m\u001b[0;34m\u001b[0m\u001b[0;34m\u001b[0m\u001b[0m\n\u001b[0;32m----> 2\u001b[0;31m \u001b[0;32mimport\u001b[0m \u001b[0msage\u001b[0m\u001b[0;34m.\u001b[0m\u001b[0mlibs\u001b[0m\u001b[0;34m.\u001b[0m\u001b[0mlrcalc\u001b[0m\u001b[0;34m.\u001b[0m\u001b[0mlrcalc\u001b[0m \u001b[0;32mas\u001b[0m \u001b[0mlrcalc\u001b[0m\u001b[0;34m\u001b[0m\u001b[0;34m\u001b[0m\u001b[0m\n\u001b[0m\u001b[1;32m      3\u001b[0m \u001b[0;32mfrom\u001b[0m \u001b[0mcollections\u001b[0m \u001b[0;32mimport\u001b[0m \u001b[0mCounter\u001b[0m\u001b[0;34m\u001b[0m\u001b[0;34m\u001b[0m\u001b[0m\n\u001b[1;32m      4\u001b[0m \u001b[0;34m\u001b[0m\u001b[0m\n\u001b[1;32m      5\u001b[0m \u001b[0;32mdef\u001b[0m \u001b[0mformatting\u001b[0m\u001b[0;34m(\u001b[0m\u001b[0mv\u001b[0m\u001b[0;34m:\u001b[0m \u001b[0mlist\u001b[0m\u001b[0;34m,\u001b[0m \u001b[0mk\u001b[0m\u001b[0;34m:\u001b[0m \u001b[0mint\u001b[0m\u001b[0;34m)\u001b[0m \u001b[0;34m->\u001b[0m \u001b[0mnp\u001b[0m\u001b[0;34m.\u001b[0m\u001b[0marray\u001b[0m\u001b[0;34m:\u001b[0m\u001b[0;34m\u001b[0m\u001b[0;34m\u001b[0m\u001b[0m\n",
      "\u001b[0;31mModuleNotFoundError\u001b[0m: No module named 'sage'"
     ]
    }
   ],
   "source": [
    "from vanishing_odd import extOddGrass, is_Lefschetz_basis, Lefschetz_indep\n",
    "from complex import  staircase\n",
    "import numpy as np"
   ]
  },
  {
   "cell_type": "code",
   "execution_count": null,
   "metadata": {},
   "outputs": [],
   "source": [
    "k = 3\n",
    "n = 5"
   ]
  },
  {
   "cell_type": "markdown",
   "metadata": {},
   "source": [
    "We start proving that B1 and B2 are the basis of a Lefschetz collection, while the bundle B does not."
   ]
  },
  {
   "cell_type": "code",
   "execution_count": null,
   "metadata": {},
   "outputs": [],
   "source": [
    "B1 = [[0,0,-3],[0,0,-2],[0,0,-1],[0,0,0],\n",
    "   [1,0,-2],[1,0,-1],[1,0,0],\n",
    "   [2,0,-2],[2,0,-1],[2,0,0],\n",
    "   [3,0,-1],[3,0,0]] \n",
    "\n",
    "B2 = [[0,0,-2],[0,0,-1],[0,0,0],\n",
    "   [1,0,-2],[1,0,-1],[1,0,0],\n",
    "   [2,0,-2],[2,0,-1],[2,0,0],\n",
    "   [3,0,-1],[3,0,0],[4,0,0]]\n",
    "\n",
    "B = B1 + [[4,0,0]]"
   ]
  },
  {
   "cell_type": "markdown",
   "metadata": {},
   "source": [
    "As a matter of fact, $\\mathsf{Ext}^\\bullet(\\mathcal{U}^{4,0,0}(l),\\mathcal{U}^{0,0,-3})=0 $ for $l=1,\\dots,8$. The nonzero $\\mathsf{Ext}^\\bullet(\\mathcal{U}^{4,0,0}(l),\\mathcal{U}^{0,0,-3}) = \\mathsf{H}^\\bullet(\\mathsf{IGr}(3,11), \\mathcal{U}^{0,0,-7})$ for $l=0$ is given by $\\mathcal{U}^{0,0,-7}$"
   ]
  },
  {
   "cell_type": "code",
   "execution_count": null,
   "metadata": {},
   "outputs": [],
   "source": [
    "print(Lefschetz_indep([4,0,0], [0,0,-3], k, n))\n",
    "print(extOddGrass([4,0,0], [0,0,-3], k, n))"
   ]
  },
  {
   "cell_type": "code",
   "execution_count": null,
   "metadata": {},
   "outputs": [],
   "source": [
    "print(f\"B1 is a Lefschetz basis? {is_Lefschetz_basis(B1,k,n)} \\nB2 is a Lefschetz basis? {is_Lefschetz_basis(B2,k,n)} \\nB is a Lefschetz basis? {is_Lefschetz_basis(B,k,n)}\")"
   ]
  },
  {
   "cell_type": "markdown",
   "metadata": {},
   "source": [
    "We show that $\\mathcal{H} \\in  {\\mathbf{B}_1^\\perp}$, we start defining the three staircase complexes to truncate:"
   ]
  },
  {
   "cell_type": "code",
   "execution_count": null,
   "metadata": {},
   "outputs": [],
   "source": [
    "stair40 = staircase([4,0,0],k,2*n+1)\n",
    "stair31 = staircase([3,0,-1],k,2*n+1)\n",
    "stair22 = staircase([2,0,-2],k,2*n+1)"
   ]
  },
  {
   "cell_type": "markdown",
   "metadata": {},
   "source": [
    "We store the truncations in a class truncated_complex designed to contain objects with left and right resolutions."
   ]
  },
  {
   "cell_type": "code",
   "execution_count": null,
   "metadata": {},
   "outputs": [],
   "source": [
    "split40 = stair40.stupid_truncation(5)\n",
    "split31 = stair31.stupid_truncation(4)\n",
    "split22 = stair22.stupid_truncation(3)\n",
    "print(str(split40))\n",
    "print(str(split31))\n",
    "print(str(split22))"
   ]
  },
  {
   "cell_type": "markdown",
   "metadata": {},
   "source": [
    "Notice that the stupid truncations are actually obtained as mutations:"
   ]
  },
  {
   "cell_type": "code",
   "execution_count": null,
   "metadata": {},
   "outputs": [],
   "source": [
    "print(split40.is_indep([[3,0,0],[2,0,0],[1,0,0],[0,0,0]], k, n))\n",
    "print(split31.is_indep([[2,0,-1],[1,0,-1],[0,0,-1]], k, n))\n",
    "print(split22.is_indep([[1,0,-2],[0,0,-2]], k, n))"
   ]
  },
  {
   "cell_type": "markdown",
   "metadata": {},
   "source": [
    "We now verify the exts of split40, split31, split22, proving that:\n",
    "\n",
    "split22, split31, split40 \n",
    "\n",
    "are an exceptional sequence. To do so, the method shortest_Tor of the class truncated_co plex looks at the 4 possible products obtained using different resolutions, looks at it in cohomology and returns the non-acyclic part of this complex with the least amount of components."
   ]
  },
  {
   "cell_type": "code",
   "execution_count": null,
   "metadata": {},
   "outputs": [],
   "source": [
    "print(str(split40.shortest_Tor(split31.dual(),k,n)))\n",
    "print(str(split40.shortest_Tor(split22.dual(),k,n)))\n",
    "print(str(split31.shortest_Tor(split22.dual(),k,n)))\n",
    "print(str(split31.shortest_Tor(split40.dual(),k,n)))\n",
    "print(str(split22.shortest_Tor(split31.dual(),k,n)))\n",
    "print(str(split22.shortest_Tor(split40.dual(),k,n)))"
   ]
  },
  {
   "cell_type": "markdown",
   "metadata": {},
   "source": [
    "We now construct $\\mathcal{H}$ as the totalization of a bicomplex."
   ]
  },
  {
   "cell_type": "code",
   "execution_count": null,
   "metadata": {},
   "outputs": [],
   "source": [
    "H = split22.cone(split31.cone(split40))"
   ]
  },
  {
   "cell_type": "markdown",
   "metadata": {},
   "source": [
    "To verify that $\\mathcal{H} \\sqcup \\mathbf{B}_1$ is a basis, it is enough to prove that:\n",
    "$$ \\mathsf{Ext}^\\bullet(\\mathbf{B}_1\\setminus \\{\\mathcal{U}^{2,0,-2},\\mathcal{U}^{3,0,-1} \\},\\mathcal{H})=0 $$"
   ]
  },
  {
   "cell_type": "markdown",
   "metadata": {},
   "source": [
    "To do that, we compute $\\mathsf{Ext}^\\bullet(-,\\mathcal{H})$ using both resolutions of $\\mathcal{H}$, this is implemented in the method .is_indep() of the truncated_complex class."
   ]
  },
  {
   "cell_type": "code",
   "execution_count": null,
   "metadata": {},
   "outputs": [],
   "source": [
    "B1b = [[0,0,-3],[0,0,-2],[0,0,-1],[0,0,0],\n",
    "   [1,0,-2],[1,0,-1],[1,0,0],\n",
    "   [2,0,-1],[2,0,0],\n",
    "   [3,0,0]] \n",
    "\n",
    "H.is_indep(B1b, k, n)\n"
   ]
  },
  {
   "cell_type": "markdown",
   "metadata": {},
   "source": [
    "We now define the object $\\mathcal{G}_2$ as the truncation of $\\mathcal{U}^{3,0,-2}(2)$. We verify that it can be described as a mutation of  $\\mathcal{U}^{3,0,-2}(2)$ by $$\\mathcal{U}^{1,0,0}, \\mathcal{U}^{0,0,-1}(1), \\mathcal{U}^{0,0,-2}(2), \\mathcal{U}^{1,0,-2}(2), \\mathcal{U}^{2,0,-2}(2).$$"
   ]
  },
  {
   "cell_type": "code",
   "execution_count": null,
   "metadata": {},
   "outputs": [],
   "source": [
    "g2 = staircase([5,2,0], 3, 11).stupid_truncation(6)"
   ]
  },
  {
   "cell_type": "code",
   "execution_count": null,
   "metadata": {},
   "outputs": [],
   "source": [
    "g2_mute = [[1,0,0], [1,1,0], [2,2,0],[3,2,0],[4,2,0]]\n",
    "g2.is_indep(g2_mute,3,5)"
   ]
  },
  {
   "cell_type": "code",
   "execution_count": null,
   "metadata": {},
   "outputs": [],
   "source": [
    "for i in range(2*n+1-k,-1,-1):\n",
    "    Btwist = [np.array(b)+i for b in B]\n",
    "    print(i,\"indep?\", g2.is_indep(Btwist,k,n, True))"
   ]
  },
  {
   "cell_type": "markdown",
   "metadata": {},
   "source": [
    "Same with $\\mathcal{G}_1$ and $\\mathcal{G}_0$:"
   ]
  },
  {
   "cell_type": "code",
   "execution_count": null,
   "metadata": {},
   "outputs": [],
   "source": [
    "g1 = staircase([4,1,0], 3, 11).stupid_truncation(5)\n",
    "g0 = staircase([3,0,0], 3, 11).stupid_truncation(4)\n",
    "g1_mute = [[0,0,0], [1,1,0], [2,1,0], [3,1,0]]\n",
    "g0_mute = [[0,0,0], [1,0,0], [2,0,0]]\n",
    "print(\"g0 is a mutation?\", g0.is_indep(g0_mute,3,5))\n",
    "print(\"g1 is a mutation?\", g1.is_indep(g1_mute,3,5))"
   ]
  },
  {
   "cell_type": "markdown",
   "metadata": {},
   "source": [
    "We compute $\\mathsf{Ext}^\\bullet(\\mathcal{G}_i, \\mathcal{G}_j)$:"
   ]
  },
  {
   "cell_type": "code",
   "execution_count": null,
   "metadata": {},
   "outputs": [],
   "source": [
    "print(str(g2.shortest_Tor(g1.dual(),k,n)))\n",
    "print(str(g2.shortest_Tor(g0.dual(),k,n)))\n",
    "print(str(g1.shortest_Tor(g2.dual(),k,n)))\n",
    "print(str(g1.shortest_Tor(g0.dual(),k,n)))\n",
    "print(str(g0.shortest_Tor(g2.dual(),k,n)))\n",
    "print(str(g0.shortest_Tor(g1.dual(),k,n)))"
   ]
  },
  {
   "cell_type": "markdown",
   "metadata": {},
   "source": [
    "We define $$ \\mathcal{G} = \\mathsf{cone}(\\mathsf{cone}(\\mathcal{G}_0\\rightarrow \\mathcal{G}_1)\\rightarrow \\mathcal{G}_2) $$ and prove some vanishings. As it is easy to show, $$\\mathsf{Ext}^\\bullet(\\mathbf{B}(l), \\mathcal{G})=0 \\quad \\textrm{for} \\quad l=2,\\dots,8,$$ we now verify it again:"
   ]
  },
  {
   "cell_type": "code",
   "execution_count": null,
   "metadata": {},
   "outputs": [],
   "source": [
    "g = g0.cone(g1.cone(g2))\n",
    "print(str(g))"
   ]
  },
  {
   "cell_type": "code",
   "execution_count": null,
   "metadata": {},
   "outputs": [],
   "source": [
    "for i in range(2*n+1-k,1,-1):\n",
    "    Btwist = [np.array(b)+i for b in B]\n",
    "    print(i,\"indep?\", g.is_indep(Btwist,k,n, True))"
   ]
  },
  {
   "cell_type": "code",
   "execution_count": null,
   "metadata": {},
   "outputs": [],
   "source": [
    "Btwist0 = [np.array(b) for b in B]\n",
    "Btwist1 = [np.array(b)+1 for b in B]"
   ]
  },
  {
   "cell_type": "code",
   "execution_count": null,
   "metadata": {},
   "outputs": [],
   "source": [
    "print(1,\"indep?\", g.is_indep(Btwist1,k,n, True))"
   ]
  },
  {
   "cell_type": "code",
   "execution_count": null,
   "metadata": {},
   "outputs": [],
   "source": [
    "print(0,\"indep?\", g.is_indep(Btwist0,k,n, True))"
   ]
  },
  {
   "cell_type": "markdown",
   "metadata": {},
   "source": [
    "From these computations, we can easily exclude some of the non-vanishings as explained in the thesis, but we still have to show  the remaining vanishings. To solve this problem, we conjecture the existence of an explicit relation:\n",
    "$$ \\mathcal{G}(3) \\in \\langle \\mathcal{G}, \\mathbf{B}, \\mathbf{B}(1), \\mathbf{B}(2)\\rangle,$$\n",
    "which would prove the statement. In the thesis, we prove that this relation holds at least at the level of the Grothendieck group."
   ]
  },
  {
   "cell_type": "markdown",
   "metadata": {},
   "source": [
    "Finally, we show that the set of bundles given by\n",
    "$$ \\mathcal{U}^{3,0,-2}, \\mathcal{U}^{3,0,-2}(1), \\mathcal{U}^{3,0,-2}(2), \\mathbf{B}, \\mathbf{B}(1), \\dots, \\mathbf{B}(8) $$\n",
    "is full, following the method introduced by Novikov."
   ]
  },
  {
   "cell_type": "code",
   "execution_count": null,
   "metadata": {},
   "outputs": [],
   "source": [
    "B1 = [[0,0,-3],[0,0,-2],[0,0,-1],[0,0,0],\n",
    "   [1,0,-2],[1,0,-1],[1,0,0],\n",
    "   [2,0,-2],[2,0,-1],[2,0,0],\n",
    "   [3,0,-1],[3,0,0]] \n",
    "\n",
    "B2 = [[0,0,-2],[0,0,-1],[0,0,0],\n",
    "   [1,0,-2],[1,0,-1],[1,0,0],\n",
    "   [2,0,-2],[2,0,-1],[2,0,0],\n",
    "   [3,0,-1],[3,0,0],[4,0,0]]\n",
    "\n",
    "B = B1 + [[4,0,0]]"
   ]
  },
  {
   "cell_type": "code",
   "execution_count": null,
   "metadata": {},
   "outputs": [],
   "source": [
    "from fullness import fullness_test\n",
    "import numpy as np\n",
    "\n",
    "k=3\n",
    "n=5\n",
    "Btwists = []\n",
    "for i in range(2*n+2-k):\n",
    "    Btwists = Btwists + [np.array(b)+i for b in B]\n",
    "\n",
    "print(\"B full?\", fullness_test(Btwists,k,n))"
   ]
  },
  {
   "cell_type": "code",
   "execution_count": null,
   "metadata": {},
   "outputs": [],
   "source": [
    "exc_coll = Btwists + [[5,2,0],[6,3,1],[7,4,2]]\n",
    "print(\"B with the additional bundles is full?\", fullness_test(exc_coll,k,n))"
   ]
  }
 ],
 "metadata": {
  "kernelspec": {
   "display_name": "Python 3 (ipykernel)",
   "language": "python",
   "name": "python3"
  },
  "language_info": {
   "codemirror_mode": {
    "name": "ipython",
    "version": 3
   },
   "file_extension": ".py",
   "mimetype": "text/x-python",
   "name": "python",
   "nbconvert_exporter": "python",
   "pygments_lexer": "ipython3",
   "version": "3.11.1"
  }
 },
 "nbformat": 4,
 "nbformat_minor": 4
}
