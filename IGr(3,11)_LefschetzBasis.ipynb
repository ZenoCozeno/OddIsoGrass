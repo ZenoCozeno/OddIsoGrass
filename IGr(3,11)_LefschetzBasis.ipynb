{
 "cells": [
  {
   "cell_type": "markdown",
   "metadata": {},
   "source": [
    "# Lefschetz Exceptional collection on IGr(3,11)"
   ]
  },
  {
   "cell_type": "markdown",
   "metadata": {},
   "source": [
    "In this notebook, we illustrate the use of some functions in the associated modules and report the computations mentioned in the author's thesis. \n",
    "We give some partial computation proving that the set of weights $\\mathbf{B}$ defined as follows induces a Lefschetz basis after mutating $\\mathcal{U}^{4,0,0}$. We slso prove some insight on a possible completion of the basis.  "
   ]
  },
  {
   "cell_type": "code",
   "execution_count": 1,
   "metadata": {},
   "outputs": [],
   "source": [
    "from src.vanishing_odd import extOddGrass, is_Lefschetz_basis, Lefschetz_indep\n",
    "from src.complex import staircase\n",
    "import numpy as np"
   ]
  },
  {
   "cell_type": "code",
   "execution_count": 2,
   "metadata": {},
   "outputs": [],
   "source": [
    "k = 3\n",
    "n = 5"
   ]
  },
  {
   "cell_type": "markdown",
   "metadata": {},
   "source": [
    "We start proving that B1 and B2 are the basis of a Lefschetz collection, while the bundle B does not."
   ]
  },
  {
   "cell_type": "code",
   "execution_count": 3,
   "metadata": {},
   "outputs": [],
   "source": [
    "B1 = [[0,0,-3],[0,0,-2],[0,0,-1],[0,0,0],\n",
    "   [1,0,-2],[1,0,-1],[1,0,0],\n",
    "   [2,0,-2],[2,0,-1],[2,0,0],\n",
    "   [3,0,-1],[3,0,0]] \n",
    "\n",
    "B2 = [[0,0,-2],[0,0,-1],[0,0,0],\n",
    "   [1,0,-2],[1,0,-1],[1,0,0],\n",
    "   [2,0,-2],[2,0,-1],[2,0,0],\n",
    "   [3,0,-1],[3,0,0],[4,0,0]]\n",
    "\n",
    "B = B1 + [[4,0,0]]"
   ]
  },
  {
   "cell_type": "markdown",
   "metadata": {},
   "source": [
    "As a matter of fact, $\\mathsf{Ext}^\\bullet(\\mathcal{U}^{4,0,0}(l),\\mathcal{U}^{0,0,-3})=0 $ for $l=1,\\dots,8$. The nonzero $\\mathsf{Ext}^\\bullet(\\mathcal{U}^{4,0,0}(l),\\mathcal{U}^{0,0,-3}) = \\mathsf{H}^\\bullet(\\mathsf{IGr}(3,11), \\mathcal{U}^{0,0,-7})$ for $l=0$ is given by $\\mathcal{U}^{0,0,-7}$"
   ]
  },
  {
   "cell_type": "code",
   "execution_count": 4,
   "metadata": {},
   "outputs": [
    {
     "name": "stdout",
     "output_type": "stream",
     "text": [
      "[1, 2, 3, 4, 5, 6, 7, 8]\n",
      "(False, Counter({(0, 0, -7): 1}))\n"
     ]
    }
   ],
   "source": [
    "print(Lefschetz_indep([4,0,0], [0,0,-3], k, n))\n",
    "print(extOddGrass([4,0,0], [0,0,-3], k, n))"
   ]
  },
  {
   "cell_type": "code",
   "execution_count": 5,
   "metadata": {},
   "outputs": [
    {
     "name": "stdout",
     "output_type": "stream",
     "text": [
      "Problem with [4, 0, 0] [0, 0, -3]\n",
      "B1 is a Lefschetz basis? True \n",
      "B2 is a Lefschetz basis? True \n",
      "B is a Lefschetz basis? False\n"
     ]
    }
   ],
   "source": [
    "print(f\"B1 is a Lefschetz basis? {is_Lefschetz_basis(B1,k,n)} \\nB2 is a Lefschetz basis? {is_Lefschetz_basis(B2,k,n)} \\nB is a Lefschetz basis? {is_Lefschetz_basis(B,k,n)}\")"
   ]
  },
  {
   "cell_type": "markdown",
   "metadata": {},
   "source": [
    "We show that $\\mathcal{H} \\in  {\\mathbf{B}_1^\\perp}$, we start defining the three staircase complexes to truncate:"
   ]
  },
  {
   "cell_type": "code",
   "execution_count": 6,
   "metadata": {},
   "outputs": [],
   "source": [
    "stair40 = staircase([4,0,0],k,2*n+1)\n",
    "stair31 = staircase([3,0,-1],k,2*n+1)\n",
    "stair22 = staircase([2,0,-2],k,2*n+1)"
   ]
  },
  {
   "cell_type": "markdown",
   "metadata": {},
   "source": [
    "We store the truncations in a class truncated_complex designed to contain objects with left and right resolutions."
   ]
  },
  {
   "cell_type": "code",
   "execution_count": 7,
   "metadata": {},
   "outputs": [
    {
     "name": "stdout",
     "output_type": "stream",
     "text": [
      "Right: \n",
      "0 -> [0] 330 * U^(0, 0, 0) ->\n",
      "[1] 165 * U^(1, 0, 0) ->\n",
      "[2] 55 * U^(2, 0, 0) ->\n",
      "[3] 11 * U^(3, 0, 0) ->\n",
      "[4] 1 * U^(4, 0, 0) -> 0\n",
      "Left: \n",
      "0 -> [-5] 1 * U^(-1, -1, -5) ->\n",
      "[-4] 11 * U^(-1, -1, -4) ->\n",
      "[-3] 55 * U^(-1, -1, -3) ->\n",
      "[-2] 165 * U^(-1, -1, -2) ->\n",
      "[-1] 330 * U^(-1, -1, -1) -> 0  end-cpx\n",
      "Right: \n",
      "0 -> [0] 165 * U^(0, 0, -1) ->\n",
      "[1] 55 * U^(1, 0, -1) ->\n",
      "[2] 11 * U^(2, 0, -1) ->\n",
      "[3] 1 * U^(3, 0, -1) -> 0\n",
      "Left: \n",
      "0 -> [-6] 1 * U^(-1, -2, -6) ->\n",
      "[-5] 11 * U^(-1, -2, -5) ->\n",
      "[-4] 55 * U^(-1, -2, -4) ->\n",
      "[-3] 165 * U^(-1, -2, -3) ->\n",
      "[-2] 330 * U^(-1, -2, -2) ->\n",
      "[-1] 462 * U^(-1, -1, -1) -> 0  end-cpx\n",
      "Right: \n",
      "0 -> [0] 55 * U^(0, 0, -2) ->\n",
      "[1] 11 * U^(1, 0, -2) ->\n",
      "[2] 1 * U^(2, 0, -2) -> 0\n",
      "Left: \n",
      "0 -> [-7] 1 * U^(-1, -3, -7) ->\n",
      "[-6] 11 * U^(-1, -3, -6) ->\n",
      "[-5] 55 * U^(-1, -3, -5) ->\n",
      "[-4] 165 * U^(-1, -3, -4) ->\n",
      "[-3] 330 * U^(-1, -3, -3) ->\n",
      "[-2] 462 * U^(-1, -2, -2) ->\n",
      "[-1] 330 * U^(-1, -1, -2) -> 0  end-cpx\n"
     ]
    }
   ],
   "source": [
    "split40 = stair40.stupid_truncation(5)\n",
    "split31 = stair31.stupid_truncation(4)\n",
    "split22 = stair22.stupid_truncation(3)\n",
    "print(str(split40))\n",
    "print(str(split31))\n",
    "print(str(split22))"
   ]
  },
  {
   "cell_type": "markdown",
   "metadata": {},
   "source": [
    "Notice that the stupid truncations are actually obtained as mutations:"
   ]
  },
  {
   "cell_type": "code",
   "execution_count": 8,
   "metadata": {},
   "outputs": [
    {
     "name": "stdout",
     "output_type": "stream",
     "text": [
      "True\n",
      "True\n",
      "True\n"
     ]
    }
   ],
   "source": [
    "print(split40.is_indep([[3,0,0],[2,0,0],[1,0,0],[0,0,0]], k, n))\n",
    "print(split31.is_indep([[2,0,-1],[1,0,-1],[0,0,-1]], k, n))\n",
    "print(split22.is_indep([[1,0,-2],[0,0,-2]], k, n))"
   ]
  },
  {
   "cell_type": "markdown",
   "metadata": {},
   "source": [
    "We now verify the exts of split40, split31, split22, proving that:\n",
    "\n",
    "split22, split31, split40 \n",
    "\n",
    "are an exceptional sequence. To do so, the method shortest_Tor of the class truncated_co plex looks at the 4 possible products obtained using different resolutions, looks at it in cohomology and returns the non-acyclic part of this complex with the least amount of components."
   ]
  },
  {
   "cell_type": "code",
   "execution_count": 9,
   "metadata": {},
   "outputs": [
    {
     "name": "stdout",
     "output_type": "stream",
     "text": [
      "0 -> [-8] 1 * U^(0, -1, -8) -> 0\n",
      "0\n",
      "0 -> [-8] 1 * U^(0, -1, -8) -> 0\n",
      "0\n",
      "0\n",
      "0\n"
     ]
    }
   ],
   "source": [
    "print(str(split40.shortest_Tor(split31.dual(),k,n)))\n",
    "print(str(split40.shortest_Tor(split22.dual(),k,n)))\n",
    "print(str(split31.shortest_Tor(split22.dual(),k,n)))\n",
    "print(str(split31.shortest_Tor(split40.dual(),k,n)))\n",
    "print(str(split22.shortest_Tor(split31.dual(),k,n)))\n",
    "print(str(split22.shortest_Tor(split40.dual(),k,n)))"
   ]
  },
  {
   "cell_type": "markdown",
   "metadata": {},
   "source": [
    "We now construct $\\mathcal{H}$ as the totalization of a bicomplex."
   ]
  },
  {
   "cell_type": "code",
   "execution_count": 10,
   "metadata": {},
   "outputs": [],
   "source": [
    "H = split22.cone(split31.cone(split40))"
   ]
  },
  {
   "cell_type": "markdown",
   "metadata": {},
   "source": [
    "To verify that $\\mathcal{H} \\sqcup \\mathbf{B}_1$ is a basis, it is enough to prove that:\n",
    "$$ \\mathsf{Ext}^\\bullet(\\mathbf{B}_1\\setminus \\{\\mathcal{U}^{2,0,-2},\\mathcal{U}^{3,0,-1} \\},\\mathcal{H})=0 $$"
   ]
  },
  {
   "cell_type": "markdown",
   "metadata": {},
   "source": [
    "To do that, we compute $\\mathsf{Ext}^\\bullet(-,\\mathcal{H})$ using both resolutions of $\\mathcal{H}$, this is implemented in the method .is_indep() of the truncated_complex class."
   ]
  },
  {
   "cell_type": "code",
   "execution_count": 11,
   "metadata": {},
   "outputs": [
    {
     "data": {
      "text/plain": [
       "True"
      ]
     },
     "execution_count": 11,
     "metadata": {},
     "output_type": "execute_result"
    }
   ],
   "source": [
    "B1b = [[0,0,-3],[0,0,-2],[0,0,-1],[0,0,0],\n",
    "   [1,0,-2],[1,0,-1],[1,0,0],\n",
    "   [2,0,-1],[2,0,0],\n",
    "   [3,0,0]] \n",
    "\n",
    "H.is_indep(B1b, k, n)\n"
   ]
  },
  {
   "cell_type": "markdown",
   "metadata": {},
   "source": [
    "We now define the object $\\mathcal{G}_2$ as the truncation of $\\mathcal{U}^{3,0,-2}(2)$. We verify that it can be described as a mutation of  $\\mathcal{U}^{3,0,-2}(2)$ by $$\\mathcal{U}^{1,0,0}, \\mathcal{U}^{0,0,-1}(1), \\mathcal{U}^{0,0,-2}(2), \\mathcal{U}^{1,0,-2}(2), \\mathcal{U}^{2,0,-2}(2).$$"
   ]
  },
  {
   "cell_type": "code",
   "execution_count": 12,
   "metadata": {},
   "outputs": [],
   "source": [
    "g2 = staircase([5,2,0], 3, 11).stupid_truncation(6)"
   ]
  },
  {
   "cell_type": "code",
   "execution_count": 13,
   "metadata": {},
   "outputs": [
    {
     "data": {
      "text/plain": [
       "True"
      ]
     },
     "execution_count": 13,
     "metadata": {},
     "output_type": "execute_result"
    }
   ],
   "source": [
    "g2_mute = [[1,0,0], [1,1,0], [2,2,0],[3,2,0],[4,2,0]]\n",
    "g2.is_indep(g2_mute,3,5)"
   ]
  },
  {
   "cell_type": "code",
   "execution_count": 14,
   "metadata": {},
   "outputs": [
    {
     "name": "stdout",
     "output_type": "stream",
     "text": [
      "8 indep? True\n",
      "7 indep? True\n",
      "6 indep? True\n",
      "5 indep? True\n",
      "4 indep? True\n",
      "3 indep? True\n",
      "2 indep? True\n",
      "(3, 1, -1):\n",
      " 0 -> [-4] 1 * U^(0, 0, -7) -> 0, \n",
      "\n",
      "(4, 1, 0):\n",
      " 0 -> [-4] 1 * U^(0, -1, -8) -> 0, \n",
      "\n",
      "1 indep? False\n",
      "(3, 0, -1):\n",
      " 0 -> [-4] 1 * U^(1, 0, -7) -> 0, \n",
      "\n",
      "(4, 0, 0):\n",
      " 0 -> [-4] 1 * U^(1, -1, -8) -> 0, \n",
      "\n",
      "0 indep? False\n"
     ]
    }
   ],
   "source": [
    "for i in range(2*n+1-k,-1,-1):\n",
    "    Btwist = [np.array(b)+i for b in B]\n",
    "    print(i,\"indep?\", g2.is_indep(Btwist,k,n, True))"
   ]
  },
  {
   "cell_type": "markdown",
   "metadata": {},
   "source": [
    "Same with $\\mathcal{G}_1$ and $\\mathcal{G}_0$:"
   ]
  },
  {
   "cell_type": "code",
   "execution_count": 15,
   "metadata": {},
   "outputs": [
    {
     "name": "stdout",
     "output_type": "stream",
     "text": [
      "g0 is a mutation? True\n",
      "g1 is a mutation? True\n"
     ]
    }
   ],
   "source": [
    "g1 = staircase([4,1,0], 3, 11).stupid_truncation(5)\n",
    "g0 = staircase([3,0,0], 3, 11).stupid_truncation(4)\n",
    "g1_mute = [[0,0,0], [1,1,0], [2,1,0], [3,1,0]]\n",
    "g0_mute = [[0,0,0], [1,0,0], [2,0,0]]\n",
    "print(\"g0 is a mutation?\", g0.is_indep(g0_mute,3,5))\n",
    "print(\"g1 is a mutation?\", g1.is_indep(g1_mute,3,5))"
   ]
  },
  {
   "cell_type": "markdown",
   "metadata": {},
   "source": [
    "We compute $\\mathsf{Ext}^\\bullet(\\mathcal{G}_i, \\mathcal{G}_j)$:"
   ]
  },
  {
   "cell_type": "code",
   "execution_count": 16,
   "metadata": {},
   "outputs": [
    {
     "name": "stdout",
     "output_type": "stream",
     "text": [
      "0 -> [-8] 1 * U^(0, -1, -8) -> 0\n",
      "0\n",
      "0\n",
      "0 -> [-8] 1 * U^(0, -1, -8) -> 0\n",
      "0\n",
      "0\n"
     ]
    }
   ],
   "source": [
    "print(str(g2.shortest_Tor(g1.dual(),k,n)))\n",
    "print(str(g2.shortest_Tor(g0.dual(),k,n)))\n",
    "print(str(g1.shortest_Tor(g2.dual(),k,n)))\n",
    "print(str(g1.shortest_Tor(g0.dual(),k,n)))\n",
    "print(str(g0.shortest_Tor(g2.dual(),k,n)))\n",
    "print(str(g0.shortest_Tor(g1.dual(),k,n)))"
   ]
  },
  {
   "cell_type": "markdown",
   "metadata": {},
   "source": [
    "We define $$ \\mathcal{G} = \\mathsf{cone}(\\mathsf{cone}(\\mathcal{G}_0\\rightarrow \\mathcal{G}_1)\\rightarrow \\mathcal{G}_2) $$ and prove some vanishings. As it is easy to show, $$\\mathsf{Ext}^\\bullet(\\mathbf{B}(l), \\mathcal{G})=0 \\quad \\textrm{for} \\quad l=2,\\dots,8,$$ we now verify it again:"
   ]
  },
  {
   "cell_type": "code",
   "execution_count": 17,
   "metadata": {},
   "outputs": [
    {
     "name": "stdout",
     "output_type": "stream",
     "text": [
      "Right: \n",
      "0 -> [0] 165 * U^(0, 0, 0) ->\n",
      "[1] 55 * U^(1, 0, 0) + 462 * U^(0, 0, 0) ->\n",
      "[2] 11 * U^(2, 0, 0) + 165 * U^(1, 1, 0) + 462 * U^(1, 0, 0) ->\n",
      "[3] 1 * U^(3, 0, 0) + 55 * U^(2, 1, 0) + 462 * U^(1, 1, 0) ->\n",
      "[4] 11 * U^(3, 1, 0) + 165 * U^(2, 2, 0) ->\n",
      "[5] 1 * U^(4, 1, 0) + 55 * U^(3, 2, 0) ->\n",
      "[6] 11 * U^(4, 2, 0) ->\n",
      "[7] 1 * U^(5, 2, 0) -> 0\n",
      "Left: \n",
      "0 -> [-6] 1 * U^(-1, -1, -6) ->\n",
      "[-5] 11 * U^(-1, -1, -5) ->\n",
      "[-4] 55 * U^(-1, -1, -4) + 1 * U^(0, -1, -5) ->\n",
      "[-3] 165 * U^(-1, -1, -3) + 11 * U^(0, -1, -4) ->\n",
      "[-2] 330 * U^(-1, -1, -2) + 55 * U^(0, -1, -3) + 1 * U^(1, -1, -4) ->\n",
      "[-1] 462 * U^(-1, -1, -1) + 165 * U^(0, -1, -2) + 11 * U^(1, -1, -3) ->\n",
      "[0] 330 * U^(0, -1, -1) + 55 * U^(1, -1, -2) ->\n",
      "[1] 165 * U^(1, -1, -1) -> 0  end-cpx\n"
     ]
    }
   ],
   "source": [
    "g = g0.cone(g1.cone(g2))\n",
    "print(str(g))"
   ]
  },
  {
   "cell_type": "code",
   "execution_count": 18,
   "metadata": {},
   "outputs": [
    {
     "name": "stdout",
     "output_type": "stream",
     "text": [
      "8 indep? True\n",
      "7 indep? True\n",
      "6 indep? True\n",
      "5 indep? True\n",
      "4 indep? True\n",
      "3 indep? True\n",
      "2 indep? True\n"
     ]
    }
   ],
   "source": [
    "for i in range(2*n+1-k,1,-1):\n",
    "    Btwist = [np.array(b)+i for b in B]\n",
    "    print(i,\"indep?\", g.is_indep(Btwist,k,n, True))"
   ]
  },
  {
   "cell_type": "code",
   "execution_count": 19,
   "metadata": {},
   "outputs": [],
   "source": [
    "Btwist0 = [np.array(b) for b in B]\n",
    "Btwist1 = [np.array(b)+1 for b in B]"
   ]
  },
  {
   "cell_type": "code",
   "execution_count": 20,
   "metadata": {},
   "outputs": [
    {
     "name": "stdout",
     "output_type": "stream",
     "text": [
      "(3, 1, -1):\n",
      " 0 -> [-4] 1 * U^(0, -1, -8) ->\n",
      "[-3]  0  ->\n",
      "[-2] 1 * U^(0, 0, -7) -> 0, \n",
      "\n",
      "(4, 1, 0):\n",
      " 0 -> [-4] 1 * U^(-1, -1, -9) ->\n",
      "[-3]  0  ->\n",
      "[-2] 1 * U^(0, -1, -8) -> 0, \n",
      "\n",
      "1 indep? False\n"
     ]
    }
   ],
   "source": [
    "print(1,\"indep?\", g.is_indep(Btwist1,k,n, True))"
   ]
  },
  {
   "cell_type": "code",
   "execution_count": 21,
   "metadata": {},
   "outputs": [
    {
     "name": "stdout",
     "output_type": "stream",
     "text": [
      "(2, 0, -2):\n",
      " 0 -> [-6] 1 * U^(1, -1, -8) ->\n",
      "[-5]  0  ->\n",
      "[-4] 1 * U^(1, 0, -7) -> 0, \n",
      "\n",
      "(2, 0, -1):\n",
      " 0 -> [-6] 1 * U^(0, -1, -8) ->\n",
      "[-5]  0  ->\n",
      "[-4] 1 * U^(0, 0, -7) -> 0, \n",
      "\n",
      "(3, 0, -1):\n",
      " 0 -> [-6] 1 * U^(0, -1, -9) ->\n",
      "[-5] 11 * U^(0, -1, -8) ->\n",
      "[-4] 1 * U^(0, 0, -8) + 1 * U^(1, -1, -8) ->\n",
      "[-3] 11 * U^(0, 0, -7) ->\n",
      "[-2] 1 * U^(1, 0, -7) -> 0, \n",
      "\n",
      "(3, 0, 0):\n",
      " 0 -> [-6] 1 * U^(-1, -1, -9) ->\n",
      "[-5]  0  ->\n",
      "[-4] 1 * U^(0, -1, -8) -> 0, \n",
      "\n",
      "(4, 0, 0):\n",
      " 0 -> [5] 1 * U^(1, 0, 0) ->\n",
      "[6] 11 * U^(2, 0, 0) ->\n",
      "[7] 1 * U^(2, 1, 0) + 1 * U^(3, 0, 0) -> 0, \n",
      "\n",
      "0 indep? False\n"
     ]
    }
   ],
   "source": [
    "print(0,\"indep?\", g.is_indep(Btwist0,k,n, True))"
   ]
  },
  {
   "cell_type": "markdown",
   "metadata": {},
   "source": [
    "From these computations, we can easily exclude some of the non-vanishings as explained in the thesis, but we still have to show  the remaining vanishings. To solve this problem, we conjecture the existence of an explicit relation:\n",
    "$$ \\mathcal{G}(3) \\in \\langle \\mathcal{G}, \\mathbf{B}, \\mathbf{B}(1), \\mathbf{B}(2)\\rangle,$$\n",
    "which would prove the statement. In the thesis, we prove that this relation holds at least at the level of the Grothendieck group."
   ]
  },
  {
   "cell_type": "markdown",
   "metadata": {},
   "source": [
    "Finally, we show that the set of bundles given by\n",
    "$$ \\mathcal{U}^{3,0,-2}, \\mathcal{U}^{3,0,-2}(1), \\mathcal{U}^{3,0,-2}(2), \\mathbf{B}, \\mathbf{B}(1), \\dots, \\mathbf{B}(8) $$\n",
    "is full, following the method introduced by Novikov."
   ]
  },
  {
   "cell_type": "code",
   "execution_count": 22,
   "metadata": {},
   "outputs": [],
   "source": [
    "B1 = [[0,0,-3],[0,0,-2],[0,0,-1],[0,0,0],\n",
    "   [1,0,-2],[1,0,-1],[1,0,0],\n",
    "   [2,0,-2],[2,0,-1],[2,0,0],\n",
    "   [3,0,-1],[3,0,0]] \n",
    "\n",
    "B2 = [[0,0,-2],[0,0,-1],[0,0,0],\n",
    "   [1,0,-2],[1,0,-1],[1,0,0],\n",
    "   [2,0,-2],[2,0,-1],[2,0,0],\n",
    "   [3,0,-1],[3,0,0],[4,0,0]]\n",
    "\n",
    "B = B1 + [[4,0,0]]"
   ]
  },
  {
   "cell_type": "code",
   "execution_count": 23,
   "metadata": {},
   "outputs": [
    {
     "name": "stdout",
     "output_type": "stream",
     "text": [
      "Iteration 0\n",
      "Stair  (4, 0)  twists  [1, 2, 3, 4, 5, 6, 7, 8]\n",
      "Staircase added at (0, -4) the following twists {0, 1, 2, 3, 4, 5, 6, 7}\n",
      "Staircase added at (0, -5) the following twists {0, 1, 2, 3, 4, 5, 6, 7}\n",
      "Staircase added at (0, -6) the following twists {0, 1, 2, 3, 4, 5, 6, 7}\n",
      "Staircase added at (0, -7) the following twists {0, 1, 2, 3, 4, 5, 6, 7}\n",
      "Staircase added at (5, 0) the following twists {1, 2, 3, 4, 5, 6, 7, 8}\n",
      "Staircase added at (6, 0) the following twists {1, 2, 3, 4, 5, 6, 7, 8}\n",
      "Staircase added at (7, 0) the following twists {1, 2, 3, 4, 5, 6, 7, 8}\n",
      "Staircase added at (8, 0) the following twists {1, 2, 3, 4, 5, 6, 7, 8}\n",
      "Staircase added at (0, -8) the following twists {0, 1, 2, 3, 4, 5, 6, 7}\n",
      "Using symplectic relations, we obtain for (1, -3) the additional twists: {0, 1, 2, 3, 4, 5, 6, 7}\n",
      "Iteration 1\n",
      "Stair  (3, -1)  twists  [2, 3, 4, 5, 6, 7, 8]\n",
      "Staircase added at (1, -4) the following twists {0, 1, 2, 3, 4, 5, 6}\n",
      "Staircase added at (1, -5) the following twists {0, 1, 2, 3, 4, 5, 6}\n",
      "Staircase added at (1, -6) the following twists {0, 1, 2, 3, 4, 5, 6}\n",
      "Staircase added at (4, -1) the following twists {2, 3, 4, 5, 6, 7, 8}\n",
      "Staircase added at (5, -1) the following twists {2, 3, 4, 5, 6, 7, 8}\n",
      "Staircase added at (6, -1) the following twists {2, 3, 4, 5, 6, 7, 8}\n",
      "Staircase added at (7, -1) the following twists {2, 3, 4, 5, 6, 7, 8}\n",
      "Staircase added at (1, -7) the following twists {0, 1, 2, 3, 4, 5, 6}\n",
      "Iteration 2\n",
      "Iteration 3\n",
      "Iteration 4\n",
      "Iteration 5\n",
      "Iteration 6\n",
      "Iteration 7\n",
      "Iteration 8\n",
      "Iteration 9\n",
      "Iteration 10\n",
      "Iteration 11\n",
      "Iteration 12\n",
      "Iteration 13\n",
      "Iteration 14\n",
      "Iteration 15\n",
      "Iteration 16\n",
      "Iteration 17\n",
      "Iteration 18\n",
      "Iteration 19\n",
      "B full? False\n"
     ]
    }
   ],
   "source": [
    "from src.fullness import fullness_test\n",
    "\n",
    "k=3\n",
    "n=5\n",
    "Btwists = []\n",
    "for i in range(2*n+2-k):\n",
    "    Btwists = Btwists + [np.array(b)+i for b in B]\n",
    "\n",
    "print(\"B full?\", fullness_test(Btwists,k,n))"
   ]
  },
  {
   "cell_type": "code",
   "execution_count": 24,
   "metadata": {},
   "outputs": [
    {
     "name": "stdout",
     "output_type": "stream",
     "text": [
      "Iteration 0\n",
      "Stair  (4, 0)  twists  [1, 2, 3, 4, 5, 6, 7, 8]\n",
      "Stair  (3, -2)  twists  [3, 4]\n",
      "Staircase added at (2, -3) the following twists {0, 1}\n",
      "Staircase added at (2, -4) the following twists {0, 1}\n",
      "Staircase added at (2, -5) the following twists {0, 1}\n",
      "Staircase added at (4, -2) the following twists {3, 4}\n",
      "Staircase added at (5, -2) the following twists {3, 4}\n",
      "Staircase added at (6, -2) the following twists {3, 4}\n",
      "Staircase added at (2, -6) the following twists {0, 1}\n",
      "Staircase added at (0, -4) the following twists {0, 1, 2, 3, 4, 5, 6, 7}\n",
      "Staircase added at (0, -5) the following twists {0, 1, 2, 3, 4, 5, 6, 7}\n",
      "Staircase added at (0, -6) the following twists {0, 1, 2, 3, 4, 5, 6, 7}\n",
      "Staircase added at (0, -7) the following twists {0, 1, 2, 3, 4, 5, 6, 7}\n",
      "Staircase added at (5, 0) the following twists {1, 2, 3, 4, 5, 6, 7, 8}\n",
      "Staircase added at (6, 0) the following twists {1, 2, 3, 4, 5, 6, 7, 8}\n",
      "Staircase added at (7, 0) the following twists {1, 2, 3, 4, 5, 6, 7, 8}\n",
      "Staircase added at (8, 0) the following twists {1, 2, 3, 4, 5, 6, 7, 8}\n",
      "Staircase added at (0, -8) the following twists {0, 1, 2, 3, 4, 5, 6, 7}\n",
      "Using symplectic relations, we obtain for (1, -3) the additional twists: {0, 1, 2, 3, 4, 5, 6, 7}\n",
      "Iteration 1\n",
      "Stair  (3, -1)  twists  [2, 3, 4, 5, 6, 7, 8]\n",
      "Staircase added at (1, -4) the following twists {0, 1, 2, 3, 4, 5, 6}\n",
      "Staircase added at (1, -5) the following twists {0, 1, 2, 3, 4, 5, 6}\n",
      "Staircase added at (1, -6) the following twists {0, 1, 2, 3, 4, 5, 6}\n",
      "Staircase added at (4, -1) the following twists {2, 3, 4, 5, 6, 7, 8}\n",
      "Staircase added at (5, -1) the following twists {2, 3, 4, 5, 6, 7, 8}\n",
      "Staircase added at (6, -1) the following twists {2, 3, 4, 5, 6, 7, 8}\n",
      "Staircase added at (7, -1) the following twists {2, 3, 4, 5, 6, 7, 8}\n",
      "Staircase added at (1, -7) the following twists {0, 1, 2, 3, 4, 5, 6}\n",
      "Using symplectic relations, we obtain for (2, -3) the additional twists: {2, 3, 4}\n",
      "Iteration 2\n",
      "Stair  (2, -2)  twists  [3, 4, 5, 6, 7]\n",
      "Staircase added at (3, -2) the following twists {5, 6, 7}\n",
      "Staircase added at (2, -4) the following twists {2, 3, 4}\n",
      "Staircase added at (2, -5) the following twists {2, 3, 4}\n",
      "Staircase added at (4, -2) the following twists {5, 6, 7}\n",
      "Staircase added at (5, -2) the following twists {5, 6, 7}\n",
      "Staircase added at (6, -2) the following twists {5, 6, 7}\n",
      "Staircase added at (2, -6) the following twists {2, 3, 4}\n",
      "Using symplectic relations, we obtain for (3, -3) the additional twists: {3, 4}\n",
      "Using symplectic relations, we obtain for (2, -3) the additional twists: {5, 6}\n",
      "Iteration 3\n",
      "Stair  (2, -2)  twists  [3, 4, 5, 6, 7, 8]\n",
      "Stair  (3, -3)  twists  [4]\n",
      "Stair  (1, -3)  twists  [4, 7]\n",
      "Stair  (2, -3)  twists  [4, 6, 7]\n",
      "Staircase added at (3, -2) the following twists {0, 8}\n",
      "Staircase added at (3, -3) the following twists {0, 2, 6, 7}\n",
      "Staircase added at (3, -4) the following twists {0, 2, 3}\n",
      "Staircase added at (2, -3) the following twists {7}\n",
      "Staircase added at (4, -3) the following twists {4, 6, 7}\n",
      "Staircase added at (5, -3) the following twists {4, 6, 7}\n",
      "Staircase added at (3, -5) the following twists {0, 2, 3}\n",
      "Staircase added at (2, -4) the following twists {5}\n",
      "Staircase added at (2, -5) the following twists {5}\n",
      "Staircase added at (4, -2) the following twists {8}\n",
      "Staircase added at (5, -2) the following twists {8}\n",
      "Staircase added at (6, -2) the following twists {8}\n",
      "Staircase added at (2, -6) the following twists {5}\n",
      "Using symplectic relations, we obtain for (3, -3) the additional twists: {5}\n",
      "Using symplectic relations, we obtain for (3, -4) the additional twists: {4}\n",
      "Using symplectic relations, we obtain for (4, -3) the additional twists: {3}\n",
      "Using symplectic relations, we obtain for (2, -4) the additional twists: {6}\n",
      "Using symplectic relations, we obtain for (4, -2) the additional twists: {2}\n",
      "Using symplectic relations, we obtain for (1, -4) the additional twists: {7}\n",
      "Iteration 4\n",
      "Stair  (0, -3)  twists  [4, 6, 7, 8]\n",
      "Stair  (3, -3)  twists  [4, 5, 6, 7, 8]\n",
      "Stair  (1, -4)  twists  [7]\n",
      "Staircase added at (3, -2) the following twists {1}\n",
      "Staircase added at (3, -3) the following twists {8, 1}\n",
      "Staircase added at (3, -4) the following twists {1, 7}\n",
      "Staircase added at (1, -3) the following twists {8}\n",
      "Staircase added at (2, -3) the following twists {8}\n",
      "Staircase added at (4, -3) the following twists {8, 2, 5}\n",
      "Staircase added at (5, -3) the following twists {8, 5}\n",
      "Staircase added at (3, -5) the following twists {1, 4}\n",
      "Staircase added at (2, -4) the following twists {7}\n",
      "Staircase added at (4, -4) the following twists {2, 7}\n",
      "Using symplectic relations, we obtain for (3, -4) the additional twists: {5}\n",
      "Using symplectic relations, we obtain for (5, -2) the additional twists: {2}\n",
      "Using symplectic relations, we obtain for (1, -5) the additional twists: {7}\n",
      "Using symplectic relations, we obtain for (4, -1) the additional twists: {1}\n",
      "Using symplectic relations, we obtain for (0, -4) the additional twists: {8}\n",
      "Using symplectic relations, we obtain for (4, -4) the additional twists: {4}\n",
      "Iteration 5\n",
      "Stair  (3, -4)  twists  [5, 7]\n",
      "Stair  (2, -4)  twists  [5, 6, 7]\n",
      "Stair  (0, -4)  twists  [5, 6, 7, 8]\n",
      "Staircase added at (3, -4) the following twists {8, 6}\n",
      "Staircase added at (4, -3) the following twists {0, 1}\n",
      "Staircase added at (2, -4) the following twists {8}\n",
      "Staircase added at (4, -2) the following twists {0, 1}\n",
      "Staircase added at (1, -4) the following twists {8}\n",
      "Staircase added at (4, -1) the following twists {0}\n",
      "Staircase added at (4, -4) the following twists {0, 1, 3, 5, 6, 8}\n",
      "Using symplectic relations, we obtain for (5, -3) the additional twists: {3}\n",
      "Using symplectic relations, we obtain for (3, -5) the additional twists: {5}\n",
      "Using symplectic relations, we obtain for (2, -5) the additional twists: {6}\n",
      "Using symplectic relations, we obtain for (5, -1) the additional twists: {1}\n",
      "Using symplectic relations, we obtain for (0, -5) the additional twists: {8}\n",
      "Using symplectic relations, we obtain for (5, 0) the additional twists: {0}\n",
      "Iteration 6\n",
      "Stair  (2, -5)  twists  [6]\n",
      "Stair  (1, -5)  twists  [6, 7]\n",
      "Stair  (0, -5)  twists  [6, 7, 8]\n",
      "Staircase added at (5, -3) the following twists {0, 1, 2}\n",
      "Staircase added at (3, -5) the following twists {8, 6, 7}\n",
      "Staircase added at (2, -5) the following twists {8, 7}\n",
      "Staircase added at (5, -2) the following twists {0, 1}\n",
      "Staircase added at (1, -5) the following twists {8}\n",
      "Staircase added at (5, -1) the following twists {0}\n",
      "Using symplectic relations, we obtain for (6, -2) the additional twists: {2}\n",
      "Using symplectic relations, we obtain for (2, -6) the additional twists: {6}\n",
      "Using symplectic relations, we obtain for (1, -6) the additional twists: {7}\n",
      "Using symplectic relations, we obtain for (6, -1) the additional twists: {1}\n",
      "Using symplectic relations, we obtain for (0, -6) the additional twists: {8}\n",
      "Using symplectic relations, we obtain for (6, 0) the additional twists: {0}\n",
      "Iteration 7\n",
      "Stair  (1, -6)  twists  [7]\n",
      "Stair  (0, -6)  twists  [7, 8]\n",
      "Staircase added at (6, -2) the following twists {0, 1}\n",
      "Staircase added at (2, -6) the following twists {8, 7}\n",
      "Staircase added at (1, -6) the following twists {8}\n",
      "Staircase added at (6, -1) the following twists {0}\n",
      "Using symplectic relations, we obtain for (7, -1) the additional twists: {1}\n",
      "Using symplectic relations, we obtain for (1, -7) the additional twists: {7}\n",
      "Using symplectic relations, we obtain for (0, -7) the additional twists: {8}\n",
      "Using symplectic relations, we obtain for (7, 0) the additional twists: {0}\n",
      "Iteration 8\n",
      "Stair  (0, -7)  twists  [8]\n",
      "Staircase added at (7, -1) the following twists {0}\n",
      "Staircase added at (1, -7) the following twists {8}\n",
      "Using symplectic relations, we obtain for (8, 0) the additional twists: {0}\n",
      "Using symplectic relations, we obtain for (0, -8) the additional twists: {8}\n",
      "B with the additional bundles is full? True\n"
     ]
    }
   ],
   "source": [
    "exc_coll = Btwists + [[5,2,0],[6,3,1],[7,4,2]]\n",
    "print(\"B with the additional bundles is full?\", fullness_test(exc_coll,k,n))"
   ]
  }
 ],
 "metadata": {
  "kernelspec": {
   "display_name": "SageMath 10.1",
   "language": "sage",
   "name": "SageMath-10.1"
  },
  "language_info": {
   "codemirror_mode": {
    "name": "ipython",
    "version": 3
   },
   "file_extension": ".py",
   "mimetype": "text/x-python",
   "name": "python",
   "nbconvert_exporter": "python",
   "pygments_lexer": "ipython3",
   "version": "3.11.1"
  }
 },
 "nbformat": 4,
 "nbformat_minor": 4
}
